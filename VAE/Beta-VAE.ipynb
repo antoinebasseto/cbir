{
 "cells": [
  {
   "cell_type": "code",
   "execution_count": 5,
   "id": "c01ad180",
   "metadata": {
    "pycharm": {
     "name": "#%%\n"
    }
   },
   "outputs": [],
   "source": [
    "import os, os.path\n",
    "import re\n",
    "import numpy as np\n",
    "import pandas as pd\n",
    "import matplotlib.pyplot as plt\n",
    "from PIL import Image\n",
    "import imageio\n",
    "import matplotlib.patches as patches\n",
    "import glob\n",
    "import torch.nn as nn\n",
    "import torch.nn.functional as F\n",
    "from torch.utils.data import Dataset\n",
    "from torchvision.transforms import ToTensor\n",
    "from torch.utils.data import DataLoader\n",
    "import torch\n",
    "from torch import nn, Tensor\n",
    "import torch.optim as optim\n",
    "\n",
    "from typing import List"
   ]
  },
  {
   "cell_type": "markdown",
   "id": "a8395747",
   "metadata": {
    "pycharm": {
     "name": "#%% md\n"
    }
   },
   "source": [
    "---"
   ]
  },
  {
   "cell_type": "code",
   "execution_count": 6,
   "outputs": [
    {
     "name": "stdout",
     "output_type": "stream",
     "text": [
      "['sm_37', 'sm_50', 'sm_60', 'sm_61', 'sm_70', 'sm_75', 'compute_37']\n"
     ]
    }
   ],
   "source": [
    "print(torch.cuda.get_arch_list())"
   ],
   "metadata": {
    "collapsed": false,
    "pycharm": {
     "name": "#%%\n"
    }
   }
  },
  {
   "cell_type": "markdown",
   "id": "26cd4ffb",
   "metadata": {
    "pycharm": {
     "name": "#%% md\n"
    }
   },
   "source": [
    "# Data"
   ]
  },
  {
   "cell_type": "code",
   "execution_count": 7,
   "id": "1c64d3da",
   "metadata": {
    "pycharm": {
     "name": "#%%\n"
    }
   },
   "outputs": [],
   "source": [
    "def load_data(folder = \"../backend-project/data/\", filenames_to_keep=None):\n",
    "    '''\n",
    "    Load the data about each image, the names of the images used for training, the name of the ones used for testing\n",
    "    and the bounding boxes.\n",
    "\n",
    "    Parameters\n",
    "    ----------\n",
    "    folder : optional, str\n",
    "        The folder where the data is stored\n",
    "    filenames_to_keep : optional, np.array(M,)\n",
    "        List of all the filenames we want to keep, the other will be filtered. Default is None, meaning we \n",
    "        want to keep all the data in the folder.\n",
    "\n",
    "    Return\n",
    "    ----------\n",
    "    data, train_val_filenames, test_filenames, bounding_boxes: \n",
    "    pd.DataFrame(N, 11), np.array(V, ), np.array(T, ),  pd.DataFrame(B, 6)\n",
    "        The data contains the info on the image such as disease, patient id/age, resolution.\n",
    "        The train_val_filenames contains the name of the images used for training/validation\n",
    "        The test_filenames contains the name of the images used for testing\n",
    "        The bounding_boxes contains the info on the bboxes of known diseases which are the name of the file\n",
    "        and the disease, the x,y coordinates of the top left corner and the width and height of the box.\n",
    "    '''\n",
    "    data = pd.read_csv(folder + \"Data_Entry_2017_v2020.csv\")\n",
    "    train_val_filenames = np.array(pd.read_csv(folder + \"train_val_list.txt\", names=[\"filename\"])['filename'].tolist())\n",
    "    test_filenames = np.array(pd.read_csv(folder + \"test_list.txt\", names=[\"filename\"])['filename'].tolist())\n",
    "    bounding_boxes = pd.read_csv(folder + \"BBox_List_2017.csv\")\n",
    "    \n",
    "    data = data.rename(columns={\"Image Index\": \"Filename\", \"Finding Labels\": \"Diseases\", \"OriginalImage[Width\":\"Original Width\", \"Height]\": \"Original Height\", \"OriginalImagePixelSpacing[x\": \"Original Pixel Spacing x\", \"y]\": \"Original Pixel Spacing y\"})\n",
    "    bounding_boxes=bounding_boxes.loc[:, ~bounding_boxes.columns.str.contains('^Unnamed')].rename(columns={\"Image Index\": \"Filename\", \"Finding Label\": \"Disease\", \"Bbox [x\" : \"x\", \"h]\": \"h\"})\n",
    "    \n",
    "    if filenames_to_keep is not None:\n",
    "        data = data[data[\"Filename\"].isin(filenames_to_keep)]\n",
    "        bounding_boxes = bounding_boxes[bounding_boxes[\"Filename\"].isin(filenames_to_keep)]\n",
    "        test_filenames = test_filenames[np.isin(test_filenames, filenames_to_keep)]\n",
    "        train_val_filenames = train_val_filenames[np.isin(train_val_filenames, filenames_to_keep)]\n",
    "        \n",
    "    return data, train_val_filenames, test_filenames, bounding_boxes"
   ]
  },
  {
   "cell_type": "code",
   "execution_count": 8,
   "id": "b92a6a22",
   "metadata": {
    "pycharm": {
     "name": "#%%\n"
    }
   },
   "outputs": [],
   "source": [
    "def read_image(path):\n",
    "    '''\n",
    "    Read an image in memory\n",
    "\n",
    "    Parameters\n",
    "    ----------\n",
    "    path : str\n",
    "        The path to the image (folder + filename)\n",
    "\n",
    "    Return\n",
    "    ----------\n",
    "    np_img: np.array(X, Y):\n",
    "        The image (not scaled) stored in this path\n",
    "    '''\n",
    "    img = Image.open(path)\n",
    "    np_img = np.array(img)\n",
    "\n",
    "    return np_img\n",
    "\n",
    "def scale_image(np_img):\n",
    "    '''\n",
    "    Scale an image from range [0, 255] to range [0, 1]\n",
    "\n",
    "    Parameters\n",
    "    ----------\n",
    "    np_img : np.array(X, Y)\n",
    "        The unscaled ([0, 255]) image\n",
    "\n",
    "    Return\n",
    "    ----------\n",
    "    np.array(X, Y):\n",
    "        The scaled ([0, 1]) image\n",
    "    '''\n",
    "    return np_img/255"
   ]
  },
  {
   "cell_type": "code",
   "execution_count": 9,
   "id": "e562d6a2",
   "metadata": {
    "pycharm": {
     "name": "#%%\n"
    }
   },
   "outputs": [],
   "source": [
    "class XRayDataset(Dataset):\n",
    "    '''\n",
    "    Class to represent our dataset of XRay images. Subclass of torch.utils.data.Dataset. Store the image directory,\n",
    "    images name, bounding boxes and data of the images we will use either for training or testing.\n",
    "    '''\n",
    "    def __init__(self, img_dir, transform=None, train=True):\n",
    "        '''\n",
    "        Constructor\n",
    "\n",
    "        Parameters\n",
    "        ----------\n",
    "        img_dir : str\n",
    "            Directory where the images are stored. Will take all the png files present in this directory\n",
    "        transform: optional, function\n",
    "            Transformation used on every image before returning it such as scaling.\n",
    "        train: optional, Boolean\n",
    "            If set to true, we keep only the training data in the corresponding folder and otherwise the testing one\n",
    "        '''\n",
    "        self.img_dir = img_dir\n",
    "        # Read all the names of the PNG files in the directory\n",
    "        images_name = np.array([name for name in os.listdir(img_dir) if os.path.isfile(os.path.join(img_dir, name)) and re.search('png$', name) is not None])\n",
    "        print(\"Disables loading data\")\n",
    "        # data, train_names, test_names, bounding_boxes = load_data(filenames_to_keep = images_name)\n",
    "        #\n",
    "        # # Keep only the training or test ones\n",
    "        # self.data = data[data[\"Filename\"].isin((train_names if train else test_names))]\n",
    "        # self.bounding_boxes = bounding_boxes[bounding_boxes[\"Filename\"].isin((train_names if train else test_names))]\n",
    "        #self.images_name = images_name[np.isin(images_name, (train_names if train else test_names))]\n",
    "        self.images_name = images_name\n",
    "        self.transform = transform\n",
    "        \n",
    "    def __len__(self):\n",
    "        '''\n",
    "        Overload: return the length of the dataset\n",
    "\n",
    "        Return\n",
    "        ----------\n",
    "        length: int:\n",
    "            The length of the dataset\n",
    "        '''\n",
    "        return self.images_name.shape[0]\n",
    "\n",
    "    def __getitem__(self, idx):\n",
    "        '''\n",
    "        Overload; get the item (only image for the moment) corresponding to the given idx.\n",
    "\n",
    "        Parameters\n",
    "        ----------\n",
    "        idx : int\n",
    "            Index of the item we want to get.\n",
    "\n",
    "        Return\n",
    "        ----------\n",
    "        image: np.array(X, Y):\n",
    "            The corresponding image transformed with the transform method\n",
    "        '''\n",
    "        img_path = os.path.join(self.img_dir, self.images_name[idx])\n",
    "        image = read_image(img_path)\n",
    "        \n",
    "        if(len(image.shape) > 2): #Some images have more than one channel for unknown reasons\n",
    "            image = image[:, :, 0]\n",
    "\n",
    "        #uncomment later\n",
    "        # data = self.data[self.data[\"Filename\"] == self.images_name[idx]]\n",
    "        #\n",
    "        # bbox = None\n",
    "        # if not self.bounding_boxes[self.bounding_boxes[\"Filename\"] == self.images_name[idx]].empty:\n",
    "        #     bbox = self.bounding_boxes[self.bounding_boxes[\"Filename\"] == self.images_name[idx]]\n",
    "        #\n",
    "        if self.transform:\n",
    "            image = self.transform(image)\n",
    "#             if image.shape[0] == 1:\n",
    "#                 image = image.squeeze()\n",
    "\n",
    "        return image#, data, bbox # Cannot pass data and bbox for the moment because they contain entries of type \"object\" which is a problem for dataloader. Should transform the few entries having object type"
   ]
  },
  {
   "cell_type": "markdown",
   "id": "0057c5ef",
   "metadata": {
    "pycharm": {
     "name": "#%% md\n"
    }
   },
   "source": [
    "---"
   ]
  },
  {
   "cell_type": "markdown",
   "id": "8fa15201",
   "metadata": {
    "pycharm": {
     "name": "#%% md\n"
    }
   },
   "source": [
    "# Model"
   ]
  },
  {
   "cell_type": "markdown",
   "id": "4233a811",
   "metadata": {
    "pycharm": {
     "name": "#%% md\n"
    }
   },
   "source": [
    "## Variational Encoder"
   ]
  },
  {
   "cell_type": "code",
   "execution_count": 10,
   "id": "c91b4a2f",
   "metadata": {
    "pycharm": {
     "name": "#%%\n"
    }
   },
   "outputs": [],
   "source": [
    "class VariationalEncoder(nn.Module):\n",
    "    def __init__(self,\n",
    "                 in_channels: int,\n",
    "                 latent_dim: int,\n",
    "                 hidden_dims: List = None,\n",
    "                 **kwargs) -> None:\n",
    "        super().__init__()\n",
    "\n",
    "        modules = []\n",
    "        if hidden_dims is None:\n",
    "            hidden_dims = [16, 32, 64, 128, 256]\n",
    "\n",
    "        # Build Encoder\n",
    "        for h_dim in hidden_dims:\n",
    "            modules.append(\n",
    "                nn.Sequential(\n",
    "                    nn.Conv2d(in_channels, out_channels=h_dim,\n",
    "                              kernel_size=3, padding=1),\n",
    "                    nn.Conv2d(h_dim, out_channels=h_dim,\n",
    "                              kernel_size=3, stride=2, padding=1),\n",
    "                    nn.BatchNorm2d(h_dim),\n",
    "                    nn.LeakyReLU())\n",
    "            )\n",
    "            in_channels = h_dim\n",
    "\n",
    "        self.encoder = nn.Sequential(*modules)\n",
    "        self.linear = nn.Sequential(\n",
    "            nn.Linear(hidden_dims[-1] * 32*32, 1024),\n",
    "            nn.ReLU(),\n",
    "            nn.Linear(1024, 256),\n",
    "            nn.ReLU()\n",
    "        )\n",
    "        self.fc_mu = nn.Linear(256, latent_dim)\n",
    "        self.fc_var = nn.Linear(256, latent_dim)\n",
    "\n",
    "    \n",
    "    def forward(self, input: torch.Tensor) -> List[torch.Tensor]:\n",
    "        \"\"\"\n",
    "        Encodes the input by passing through the encoder network\n",
    "        and returns the latent codes.\n",
    "        :param input: (Tensor) Input tensor to encoder [N x C x H x W]\n",
    "        :return: (Tensor) List of latent codes\n",
    "        \"\"\"\n",
    "        result = self.encoder(input)\n",
    "        result = torch.flatten(result, start_dim=1)\n",
    "        # Split the result into mu and var components\n",
    "        # of the latent Gaussian distribution\n",
    "        result = self.linear(result)\n",
    "        mu = self.fc_mu(result)\n",
    "        log_var = self.fc_var(result)\n",
    "        #mu = self.sigmoid(mu)\n",
    "        #log_var = self.sigmoid(log_var)\n",
    "        return [mu, log_var]"
   ]
  },
  {
   "cell_type": "markdown",
   "id": "50c315d3",
   "metadata": {
    "pycharm": {
     "name": "#%% md\n"
    }
   },
   "source": [
    "## Decoder"
   ]
  },
  {
   "cell_type": "code",
   "execution_count": 11,
   "id": "dd70a2ee",
   "metadata": {
    "pycharm": {
     "name": "#%%\n"
    }
   },
   "outputs": [],
   "source": [
    "class Decoder(nn.Module):\n",
    "    def __init__(self,\n",
    "                 encoder_in_channels: int,\n",
    "                 latent_dim: int,\n",
    "                 hidden_dims: List = None,\n",
    "                 **kwargs) -> None:\n",
    "        super().__init__()\n",
    "        \n",
    "        self.encoder_in_channels = encoder_in_channels\n",
    "        \n",
    "        modules = []\n",
    "        if hidden_dims is None:\n",
    "            hidden_dims = [256, 128, 64, 32, 16]\n",
    "\n",
    "        # Build Decoder\n",
    "        #self.decoder_input = nn.Linear(latent_dim, hidden_dims[0] * 32 * 32)\n",
    "        self.decoder_input = nn.Sequential(\n",
    "            nn.Linear(latent_dim, 256),\n",
    "            nn.ReLU(),\n",
    "            nn.Linear(256, 1024),\n",
    "            nn.ReLU(),\n",
    "            nn.Linear(1024, hidden_dims[0] * 32 * 32),\n",
    "            nn.ReLU()\n",
    "        )\n",
    "\n",
    "        self.hidden = hidden_dims[0]\n",
    "        for i in range(len(hidden_dims) - 1):\n",
    "            modules.append(\n",
    "                nn.Sequential(\n",
    "                    nn.ConvTranspose2d(hidden_dims[i], hidden_dims[i],\n",
    "                                       kernel_size=3, stride=1, padding=1),\n",
    "                    nn.ConvTranspose2d(hidden_dims[i],\n",
    "                                       hidden_dims[i + 1],\n",
    "                                       kernel_size=3,\n",
    "                                       stride = 2,\n",
    "                                       padding=1,\n",
    "                                       output_padding=1),\n",
    "                    nn.BatchNorm2d(hidden_dims[i + 1]),\n",
    "                    nn.LeakyReLU())\n",
    "                    #nn.ReLU())\n",
    "            )\n",
    "\n",
    "        self.decoder = nn.Sequential(*modules)\n",
    "\n",
    "        self.final_layer = nn.Sequential(\n",
    "                            nn.ConvTranspose2d(hidden_dims[-1],\n",
    "                                               hidden_dims[-1],\n",
    "                                               kernel_size=3,\n",
    "                                               stride=2,\n",
    "                                               padding=1,\n",
    "                                               output_padding=1),\n",
    "                            nn.BatchNorm2d(hidden_dims[-1]),\n",
    "                            nn.LeakyReLU(),\n",
    "                            nn.Conv2d(hidden_dims[-1], out_channels=encoder_in_channels,\n",
    "                                      kernel_size=3, padding=1),\n",
    "                            nn.Tanh())\n",
    "\n",
    "    def forward(self, z: torch.Tensor) -> torch.Tensor:\n",
    "        result = self.decoder_input(z)\n",
    "        result = result.view(-1, self.hidden, 32, 32)\n",
    "        result = self.decoder(result)\n",
    "        result = self.final_layer(result)\n",
    "        return result"
   ]
  },
  {
   "cell_type": "markdown",
   "id": "410619b3",
   "metadata": {
    "pycharm": {
     "name": "#%% md\n"
    }
   },
   "source": [
    "## Beta-VAE"
   ]
  },
  {
   "cell_type": "code",
   "execution_count": 12,
   "id": "c6d93bb5",
   "metadata": {
    "pycharm": {
     "name": "#%%\n"
    }
   },
   "outputs": [],
   "source": [
    "class BetaVAE(nn.Module):\n",
    "    def __init__(self,\n",
    "                 in_channels: int,\n",
    "                 latent_dim: int,\n",
    "                 hidden_dims_encoder: List = None,\n",
    "                 hidden_dims_decoder: List = None,\n",
    "                 beta: int = 4,\n",
    "                 gamma:float = 1000.,\n",
    "                 max_capacity: int = 25,\n",
    "                 Capacity_max_iter: int = 1e5,\n",
    "                 loss_type:str = 'B',\n",
    "                 **kwargs) -> None:\n",
    "        super().__init__()\n",
    "\n",
    "        self.latent_dim = latent_dim\n",
    "        self.beta = beta\n",
    "        self.gamma = gamma\n",
    "        self.loss_type = loss_type\n",
    "        self.C_max = torch.Tensor([max_capacity])\n",
    "        self.C_stop_iter = Capacity_max_iter\n",
    "        self.num_iter = 0\n",
    "        \n",
    "        self.variational_encoder = VariationalEncoder(in_channels, latent_dim, hidden_dims_encoder)\n",
    "        self.decoder = Decoder(in_channels, latent_dim, hidden_dims_decoder)\n",
    "\n",
    "    def reparameterize(self, mu: torch.Tensor, logvar: torch.Tensor) -> torch.Tensor:\n",
    "        \"\"\"\n",
    "        :param mu: (Tensor) Mean of the latent Gaussian\n",
    "        :param logvar: (Tensor) Standard deviation of the latent Gaussian\n",
    "        :return:\n",
    "        \"\"\"\n",
    "        std = torch.exp(0.5 * logvar)\n",
    "        eps = torch.randn_like(std)\n",
    "        return eps * std + mu\n",
    "\n",
    "    def forward(self, input: torch.Tensor, **kwargs) -> torch.Tensor:\n",
    "        mu, log_var = self.variational_encoder(input)\n",
    "        z = self.reparameterize(mu, log_var)\n",
    "        return  [self.decoder(z), input, mu, log_var]\n",
    "    \n",
    "    def loss_function(self,\n",
    "                      *args,\n",
    "                      **kwargs) -> dict:\n",
    "        self.num_iter += 1\n",
    "        recons = args[0]\n",
    "        input = args[1]\n",
    "        mu = args[2]\n",
    "        log_var = args[3]\n",
    "\n",
    "        #print(f'mu: {mu}')\n",
    "        recons_loss = F.mse_loss(recons, input)\n",
    "        #print(f'recons_loss: {recons_loss}')\n",
    "        #why the sum factor?\n",
    "        kl_loss = torch.mean(0.5 * torch.sum(torch.exp(log_var) + mu**2 - 1. - log_var, 1))\n",
    "        #kld_loss = torch.mean(-0.5 * torch.sum(1 + log_var - mu ** 2 - log_var.exp(), dim = 1), dim = 0)\n",
    "        #print(f'kld_loss: {kl_loss}')\n",
    "        if self.loss_type == 'H': # https://openreview.net/forum?id=Sy2fzU9gl\n",
    "            loss = recons_loss - self.beta * kl_loss\n",
    "            #print(f'loss: {loss}')\n",
    "        elif self.loss_type == 'B': # https://arxiv.org/pdf/1804.03599.pdf\n",
    "            self.C_max = self.C_max.to(input.device)\n",
    "            C = torch.clamp(self.C_max/self.C_stop_iter * self.num_iter, 0, self.C_max.data[0])\n",
    "            loss = recons_loss + self.gamma * (-kl_loss - C).abs()\n",
    "        else:\n",
    "            raise ValueError('Undefined loss type.')\n",
    "\n",
    "        return {'loss': loss, 'Reconstruction_Loss':recons_loss.detach(), 'KLD':kl_loss.detach()}\n",
    "\n",
    "    def sample(self,\n",
    "               num_samples:int,\n",
    "               current_device: int, **kwargs) -> torch.Tensor:\n",
    "        \"\"\"\n",
    "        Samples from the latent space and return the corresponding\n",
    "        image space map.\n",
    "        :param num_samples: (Int) Number of samples\n",
    "        :param current_device: (Int) Device to run the model\n",
    "        :return: (Tensor)\n",
    "        \"\"\"\n",
    "        z = torch.randn(num_samples,\n",
    "                        self.latent_dim)\n",
    "\n",
    "        z = z.to(current_device)\n",
    "\n",
    "        samples = self.decode(z)\n",
    "        return samples\n",
    "\n",
    "    def generate(self, x: torch.Tensor, **kwargs) -> torch.Tensor:\n",
    "        \"\"\"\n",
    "        Given an input image x, returns the reconstructed image\n",
    "        :param x: (Tensor) [B x C x H x W]\n",
    "        :return: (Tensor) [B x C x H x W]\n",
    "        \"\"\"\n",
    "\n",
    "        return self.forward(x)[0]"
   ]
  },
  {
   "cell_type": "markdown",
   "id": "35959d94",
   "metadata": {
    "pycharm": {
     "name": "#%% md\n"
    }
   },
   "source": [
    "---"
   ]
  },
  {
   "cell_type": "markdown",
   "id": "acce8562",
   "metadata": {
    "pycharm": {
     "name": "#%% md\n"
    }
   },
   "source": [
    "# Training"
   ]
  },
  {
   "cell_type": "code",
   "execution_count": 13,
   "id": "12b0e00d",
   "metadata": {
    "pycharm": {
     "name": "#%%\n"
    }
   },
   "outputs": [],
   "source": [
    "from tqdm import tqdm\n",
    "def train(model, train_loader, optimizer, num_epochs=5, verbose=1):\n",
    "    '''\n",
    "    Train the model.\n",
    "    \n",
    "    Parameters\n",
    "    ----------\n",
    "    model: nn.Module\n",
    "        The model.\n",
    "    train_loader: DataLoader\n",
    "        A Pytorch Dataloader containing the training images.\n",
    "    num_epochs: optional, int \n",
    "        The number of epochs to train.\n",
    "    verbose: optional, int\n",
    "        Set the number of printing we want during training. For the moment, only 0 for no printing or another value\n",
    "        to get some information about the update.\n",
    "    \n",
    "    Return\n",
    "    ----------\n",
    "    loss_history: list\n",
    "        A list of training losses. One for each epoch of training.\n",
    "    '''\n",
    "    loss_history = []\n",
    "    best_loss = 0\n",
    "    device = 'cuda:0' if torch.cuda.is_available() else 'cpu'\n",
    "    for e in range(num_epochs):\n",
    "        if verbose:\n",
    "            print(f\"=========== EPOCH {e} ===========\")\n",
    "        total_loss = 0\n",
    "        number_samples = 0\n",
    "        for batch in tqdm(train_loader):\n",
    "            X = batch\n",
    "            X = X.to(device)\n",
    "            output = model(X)\n",
    "            loss = loss_fn(*output)\n",
    "            total_loss += loss[\"loss\"].detach()\n",
    "            number_samples += X.shape[0]\n",
    "            optimizer.zero_grad()\n",
    "            loss[\"loss\"].backward()\n",
    "            optimizer.step()\n",
    "            \n",
    "            # if verbose and i%50 == 0and not i==0:\n",
    "            #     print(f\"Done processing batch number {i}\")\n",
    "        print(f\"Mean loss = {total_loss/number_samples}\")\n",
    "\n",
    "        if e ==0 or total_loss < best_loss:\n",
    "            best_loss = total_loss\n",
    "            torch.save(model.state_dict(), \"/log/best_model.pth\")\n",
    "            print(f'Saved the best model')\n",
    "            print(f'New best loss {best_loss}')\n",
    "        loss_history.append(total_loss/number_samples)\n",
    "    return loss_history"
   ]
  },
  {
   "cell_type": "code",
   "execution_count": 14,
   "id": "f7229a98",
   "metadata": {
    "pycharm": {
     "name": "#%%\n"
    }
   },
   "outputs": [],
   "source": [
    "def plot_loss(epoch_losses, title='Loss'):\n",
    "    '''\n",
    "    Simple plot for the loss at each epoch.\n",
    "    \n",
    "    Parameters\n",
    "    ----------\n",
    "    epoch_losses: list\n",
    "        A list of training losses. One for each epoch of training.\n",
    "    title: optional, str\n",
    "        the title of the plot.\n",
    "    '''\n",
    "    plt.figure()\n",
    "    plt.plot(epoch_losses)\n",
    "    plt.title(title)\n",
    "    plt.xlabel('Epochs')\n",
    "    plt.ylabel('Loss')\n",
    "    plt.show()"
   ]
  },
  {
   "cell_type": "code",
   "execution_count": 15,
   "id": "9c2215f9",
   "metadata": {
    "pycharm": {
     "name": "#%%\n"
    }
   },
   "outputs": [
    {
     "name": "stdout",
     "output_type": "stream",
     "text": [
      "Disables loading data\n",
      "Disables loading data\n"
     ]
    }
   ],
   "source": [
    "# Compute the dataloader for training and testing using our custom dataset\n",
    "IMG_DIR = \"../backend-project/data/images_001/images\"\n",
    "BATCH_SIZE = 16\n",
    "\n",
    "training_data = XRayDataset(\n",
    "    img_dir=IMG_DIR,\n",
    "    train=True,\n",
    "    transform=ToTensor() #This method directly scale the image in [0, 1] range\n",
    ")\n",
    "\n",
    "test_data = XRayDataset(\n",
    "    img_dir=IMG_DIR,\n",
    "    train=False,\n",
    "    transform=ToTensor() #This method directly scale the image in [0, 1] range\n",
    ")\n",
    "\n",
    "train_loader = DataLoader(training_data,\n",
    "                          batch_size=BATCH_SIZE,\n",
    "                          shuffle=True)\n",
    "test_loader = DataLoader(test_data, \n",
    "                         batch_size=BATCH_SIZE, \n",
    "                         shuffle=True)"
   ]
  },
  {
   "cell_type": "code",
   "execution_count": null,
   "id": "123ce77a",
   "metadata": {
    "pycharm": {
     "name": "#%%\n"
    }
   },
   "outputs": [
    {
     "name": "stdout",
     "output_type": "stream",
     "text": [
      "Using device cuda:0\n"
     ]
    },
    {
     "name": "stderr",
     "output_type": "stream",
     "text": [
      "/home/jimmy/anaconda3/envs/eegeyenet_benchmark/lib/python3.8/site-packages/torch/cuda/__init__.py:104: UserWarning: \n",
      "NVIDIA GeForce RTX 3080 with CUDA capability sm_86 is not compatible with the current PyTorch installation.\n",
      "The current PyTorch install supports CUDA capabilities sm_37 sm_50 sm_60 sm_61 sm_70 sm_75 compute_37.\n",
      "If you want to use the NVIDIA GeForce RTX 3080 GPU with PyTorch, please check the instructions at https://pytorch.org/get-started/locally/\n",
      "\n",
      "  warnings.warn(incompatible_device_warn.format(device_name, capability, \" \".join(arch_list), device_name))\n"
     ]
    }
   ],
   "source": [
    "# Create our autoencoder and train it\n",
    "# Parameters\n",
    "NUM_EPOCHS = 2\n",
    "LEARNING_RATE = 1e-4\n",
    "\n",
    "LATENT_SPACE_DIM = 16\n",
    "device = 'cuda:0' if torch.cuda.is_available() else 'cpu'\n",
    "print(f'Using device {device}')\n",
    "# Model\n",
    "beta_vae = BetaVAE(in_channels=1, latent_dim=64)\n",
    "\n",
    "beta_vae.to(device)\n",
    "# Loss function & optimizer\n",
    "loss_fn = beta_vae.loss_function\n",
    "optimizer = optim.Adam(beta_vae.parameters(),\n",
    "                       lr=LEARNING_RATE)\n",
    "\n",
    "epoch_losses = train(beta_vae, train_loader, optimizer, num_epochs=NUM_EPOCHS)\n",
    "plot_loss(epoch_losses, 'Training Loss')"
   ]
  },
  {
   "cell_type": "code",
   "execution_count": null,
   "id": "be252cf2",
   "metadata": {
    "pycharm": {
     "name": "#%%\n"
    }
   },
   "outputs": [],
   "source": [
    "#torch.save(beta_vae.state_dict(), './log/beta_vae.pt')"
   ]
  },
  {
   "cell_type": "code",
   "execution_count": 16,
   "outputs": [],
   "source": [
    "from torchvision.transforms import ToPILImage\n",
    "transform = ToPILImage()"
   ],
   "metadata": {
    "collapsed": false,
    "pycharm": {
     "name": "#%%\n"
    }
   }
  },
  {
   "cell_type": "code",
   "execution_count": null,
   "outputs": [],
   "source": [
    "beta_vae = BetaVAE(in_channels=1, latent_dim=64)\n",
    "beta_vae.load_state_dict(torch.load('./log/best_model.pth'))"
   ],
   "metadata": {
    "collapsed": false,
    "pycharm": {
     "name": "#%%\n",
     "is_executing": true
    }
   }
  },
  {
   "cell_type": "code",
   "execution_count": null,
   "outputs": [],
   "source": [
    "image_generated = beta_vae.generate(test_data[1].unsqueeze(dim=0))\n",
    "transform(image_generated[0]).show()\n",
    "transform(test_data[1]).show()"
   ],
   "metadata": {
    "collapsed": false,
    "pycharm": {
     "name": "#%%\n",
     "is_executing": true
    }
   }
  },
  {
   "cell_type": "code",
   "execution_count": null,
   "outputs": [],
   "source": [
    "-"
   ],
   "metadata": {
    "collapsed": false,
    "pycharm": {
     "name": "#%%\n"
    }
   }
  }
 ],
 "metadata": {
  "kernelspec": {
   "display_name": "Python 3 (ipykernel)",
   "language": "python",
   "name": "python3"
  },
  "language_info": {
   "codemirror_mode": {
    "name": "ipython",
    "version": 3
   },
   "file_extension": ".py",
   "mimetype": "text/x-python",
   "name": "python",
   "nbconvert_exporter": "python",
   "pygments_lexer": "ipython3",
   "version": "3.10.0"
  }
 },
 "nbformat": 4,
 "nbformat_minor": 5
}