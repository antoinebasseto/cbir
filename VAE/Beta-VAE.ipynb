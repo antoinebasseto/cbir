{
 "cells": [
  {
   "cell_type": "code",
   "execution_count": 5,
   "id": "c01ad180",
   "metadata": {
    "pycharm": {
     "name": "#%%\n"
    }
   },
   "outputs": [],
   "source": [
    "import os, os.path\n",
    "import re\n",
    "import numpy as np\n",
    "import pandas as pd\n",
    "import matplotlib.pyplot as plt\n",
    "from PIL import Image\n",
    "import imageio\n",
    "import matplotlib.patches as patches\n",
    "import glob\n",
    "import torch.nn as nn\n",
    "import torch.nn.functional as F\n",
    "from torch.utils.data import Dataset\n",
    "from torchvision.transforms import ToTensor\n",
    "from torch.utils.data import DataLoader\n",
    "import torch\n",
    "from torch import nn, Tensor\n",
    "import torch.optim as optim\n",
    "\n",
    "from typing import List"
   ]
  },
  {
   "cell_type": "markdown",
   "id": "a8395747",
   "metadata": {
    "pycharm": {
     "name": "#%% md\n"
    }
   },
   "source": [
    "---"
   ]
  },
  {
   "cell_type": "code",
   "execution_count": 6,
   "outputs": [
    {
     "name": "stdout",
     "output_type": "stream",
     "text": [
      "['sm_37', 'sm_50', 'sm_60', 'sm_61', 'sm_70', 'sm_75', 'compute_37']\n"
     ]
    }
   ],
   "source": [
    "print(torch.cuda.get_arch_list())"
   ],
   "metadata": {
    "collapsed": false,
    "pycharm": {
     "name": "#%%\n"
    }
   }
  },
  {
   "cell_type": "markdown",
   "id": "26cd4ffb",
   "metadata": {
    "pycharm": {
     "name": "#%% md\n"
    }
   },
   "source": [
    "# Data"
   ]
  },
  {
   "cell_type": "code",
   "execution_count": 7,
   "id": "1c64d3da",
   "metadata": {
    "pycharm": {
     "name": "#%%\n"
    }
   },
   "outputs": [],
   "source": [
    "def load_data(folder = \"../backend-project/data/\", filenames_to_keep=None):\n",
    "    '''\n",
    "    Load the data about each image, the names of the images used for training, the name of the ones used for testing\n",
    "    and the bounding boxes.\n",
    "\n",
    "    Parameters\n",
    "    ----------\n",
    "    folder : optional, str\n",
    "        The folder where the data is stored\n",
    "    filenames_to_keep : optional, np.array(M,)\n",
    "        List of all the filenames we want to keep, the other will be filtered. Default is None, meaning we \n",
    "        want to keep all the data in the folder.\n",
    "\n",
    "    Return\n",
    "    ----------\n",
    "    data, train_val_filenames, test_filenames, bounding_boxes: \n",
    "    pd.DataFrame(N, 11), np.array(V, ), np.array(T, ),  pd.DataFrame(B, 6)\n",
    "        The data contains the info on the image such as disease, patient id/age, resolution.\n",
    "        The train_val_filenames contains the name of the images used for training/validation\n",
    "        The test_filenames contains the name of the images used for testing\n",
    "        The bounding_boxes contains the info on the bboxes of known diseases which are the name of the file\n",
    "        and the disease, the x,y coordinates of the top left corner and the width and height of the box.\n",
    "    '''\n",
    "    data = pd.read_csv(folder + \"Data_Entry_2017_v2020.csv\")\n",
    "    train_val_filenames = np.array(pd.read_csv(folder + \"train_val_list.txt\", names=[\"filename\"])['filename'].tolist())\n",
    "    test_filenames = np.array(pd.read_csv(folder + \"test_list.txt\", names=[\"filename\"])['filename'].tolist())\n",
    "    bounding_boxes = pd.read_csv(folder + \"BBox_List_2017.csv\")\n",
    "    \n",
    "    data = data.rename(columns={\"Image Index\": \"Filename\", \"Finding Labels\": \"Diseases\", \"OriginalImage[Width\":\"Original Width\", \"Height]\": \"Original Height\", \"OriginalImagePixelSpacing[x\": \"Original Pixel Spacing x\", \"y]\": \"Original Pixel Spacing y\"})\n",
    "    bounding_boxes=bounding_boxes.loc[:, ~bounding_boxes.columns.str.contains('^Unnamed')].rename(columns={\"Image Index\": \"Filename\", \"Finding Label\": \"Disease\", \"Bbox [x\" : \"x\", \"h]\": \"h\"})\n",
    "    \n",
    "    if filenames_to_keep is not None:\n",
    "        data = data[data[\"Filename\"].isin(filenames_to_keep)]\n",
    "        bounding_boxes = bounding_boxes[bounding_boxes[\"Filename\"].isin(filenames_to_keep)]\n",
    "        test_filenames = test_filenames[np.isin(test_filenames, filenames_to_keep)]\n",
    "        train_val_filenames = train_val_filenames[np.isin(train_val_filenames, filenames_to_keep)]\n",
    "        \n",
    "    return data, train_val_filenames, test_filenames, bounding_boxes"
   ]
  },
  {
   "cell_type": "code",
   "execution_count": 8,
   "id": "b92a6a22",
   "metadata": {
    "pycharm": {
     "name": "#%%\n"
    }
   },
   "outputs": [],
   "source": [
    "def read_image(path):\n",
    "    '''\n",
    "    Read an image in memory\n",
    "\n",
    "    Parameters\n",
    "    ----------\n",
    "    path : str\n",
    "        The path to the image (folder + filename)\n",
    "\n",
    "    Return\n",
    "    ----------\n",
    "    np_img: np.array(X, Y):\n",
    "        The image (not scaled) stored in this path\n",
    "    '''\n",
    "    img = Image.open(path)\n",
    "    np_img = np.array(img)\n",
    "\n",
    "    return np_img\n",
    "\n",
    "def scale_image(np_img):\n",
    "    '''\n",
    "    Scale an image from range [0, 255] to range [0, 1]\n",
    "\n",
    "    Parameters\n",
    "    ----------\n",
    "    np_img : np.array(X, Y)\n",
    "        The unscaled ([0, 255]) image\n",
    "\n",
    "    Return\n",
    "    ----------\n",
    "    np.array(X, Y):\n",
    "        The scaled ([0, 1]) image\n",
    "    '''\n",
    "    return np_img/255"
   ]
  },
  {
   "cell_type": "code",
   "execution_count": 4,
   "id": "e562d6a2",
   "metadata": {
    "pycharm": {
     "name": "#%%\n"
    }
   },
   "outputs": [],
   "source": [
    "class XRayDataset(Dataset):\n",
    "    '''\n",
    "    Class to represent our dataset of XRay images. Subclass of torch.utils.data.Dataset. Store the image directory,\n",
    "    images name, bounding boxes and data of the images we will use either for training or testing.\n",
    "    '''\n",
    "    def __init__(self, img_dir, transform=None, train=True):\n",
    "        '''\n",
    "        Constructor\n",
    "\n",
    "        Parameters\n",
    "        ----------\n",
    "        img_dir : str\n",
    "            Directory where the images are stored. Will take all the png files present in this directory\n",
    "        transform: optional, function\n",
    "            Transformation used on every image before returning it such as scaling.\n",
    "        train: optional, Boolean\n",
    "            If set to true, we keep only the training data in the corresponding folder and otherwise the testing one\n",
    "        '''\n",
    "        self.img_dir = img_dir\n",
    "        # Read all the names of the PNG files in the directory\n",
    "        images_name = np.array([name for name in os.listdir(img_dir) if os.path.isfile(os.path.join(img_dir, name)) and re.search('png$', name) is not None])\n",
    "        data, train_names, test_names, bounding_boxes = load_data(filenames_to_keep = images_name)\n",
    "    \n",
    "        # Keep only the training or test ones\n",
    "        self.data = data[data[\"Filename\"].isin((train_names if train else test_names))]\n",
    "        self.bounding_boxes = bounding_boxes[bounding_boxes[\"Filename\"].isin((train_names if train else test_names))]\n",
    "        self.images_name = images_name[np.isin(images_name, (train_names if train else test_names))]\n",
    "        self.images_name = images_name\n",
    "        self.transform = transform\n",
    "        \n",
    "    def __len__(self):\n",
    "        '''\n",
    "        Overload: return the length of the dataset\n",
    "\n",
    "        Return\n",
    "        ----------\n",
    "        length: int:\n",
    "            The length of the dataset\n",
    "        '''\n",
    "        return self.images_name.shape[0]\n",
    "\n",
    "    def __getitem__(self, idx):\n",
    "        '''\n",
    "        Overload; get the item (only image for the moment) corresponding to the given idx.\n",
    "\n",
    "        Parameters\n",
    "        ----------\n",
    "        idx : int\n",
    "            Index of the item we want to get.\n",
    "\n",
    "        Return\n",
    "        ----------\n",
    "        image: np.array(X, Y):\n",
    "            The corresponding image transformed with the transform method\n",
    "        '''\n",
    "        img_path = os.path.join(self.img_dir, self.images_name[idx])\n",
    "        image = read_image(img_path)\n",
    "        \n",
    "        if(len(image.shape) > 2): #Some images have more than one channel for unknown reasons\n",
    "            image = image[:, :, 0]\n",
    "\n",
    "        data = self.data[self.data[\"Filename\"] == self.images_name[idx]]\n",
    "        \n",
    "        bbox = None\n",
    "        if not self.bounding_boxes[self.bounding_boxes[\"Filename\"] == self.images_name[idx]].empty:\n",
    "            bbox = self.bounding_boxes[self.bounding_boxes[\"Filename\"] == self.images_name[idx]]\n",
    "\n",
    "        if self.transform:\n",
    "            image = self.transform(image)\n",
    "\n",
    "        return image#, data, bbox # Cannot pass data and bbox for the moment because they contain entries of type \"object\" which is a problem for dataloader. Should transform the few entries having object type"
   ]
  },
  {
   "cell_type": "markdown",
   "id": "0057c5ef",
   "metadata": {
    "pycharm": {
     "name": "#%% md\n"
    }
   },
   "source": [
    "---"
   ]
  },
  {
   "cell_type": "markdown",
   "id": "8fa15201",
   "metadata": {
    "pycharm": {
     "name": "#%% md\n"
    }
   },
   "source": [
    "# Model"
   ]
  },
  {
   "cell_type": "markdown",
   "id": "4233a811",
   "metadata": {
    "pycharm": {
     "name": "#%% md\n"
    }
   },
   "source": [
    "## Variational Encoder"
   ]
  },
  {
   "cell_type": "code",
   "execution_count": 10,
   "id": "c91b4a2f",
   "metadata": {
    "pycharm": {
     "name": "#%%\n"
    }
   },
   "outputs": [],
   "source": [
    "class VariationalEncoder(nn.Module):\n",
    "    def __init__(self,\n",
    "                 in_channels: int,\n",
    "                 latent_dim: int,\n",
    "                 hidden_dims: List = None,\n",
    "                 **kwargs) -> None:\n",
    "        super().__init__()\n",
    "\n",
    "        modules = []\n",
    "        if hidden_dims is None:\n",
    "            hidden_dims = [16, 32, 64, 128, 256]\n",
    "\n",
    "        # Build Encoder\n",
    "        for h_dim in hidden_dims:\n",
    "            modules.append(\n",
    "                nn.Sequential(\n",
    "                    nn.Conv2d(in_channels, out_channels=h_dim,\n",
    "                              kernel_size=3, padding=1),\n",
    "                    nn.Conv2d(h_dim, out_channels=h_dim,\n",
    "                              kernel_size=3, stride=2, padding=1),\n",
    "                    nn.BatchNorm2d(h_dim),\n",
    "                    nn.LeakyReLU())\n",
    "            )\n",
    "            in_channels = h_dim\n",
    "\n",
    "        self.encoder = nn.Sequential(*modules)\n",
    "        self.linear = nn.Sequential(\n",
    "            nn.Linear(hidden_dims[-1] * 32*32, 1024),\n",
    "            nn.ReLU(),\n",
    "            nn.Linear(1024, 256),\n",
    "            nn.ReLU()\n",
    "        )\n",
    "        self.fc_mu = nn.Linear(256, latent_dim)\n",
    "        self.fc_var = nn.Linear(256, latent_dim)\n",
    "    \n",
    "    def forward(self, input: torch.Tensor) -> List[torch.Tensor]:\n",
    "        \"\"\"\n",
    "        Encodes the input by passing through the encoder network\n",
    "        and returns the latent codes.\n",
    "        :param input: (Tensor) Input tensor to encoder [N x C x H x W]\n",
    "        :return: (Tensor) List of latent codes\n",
    "        \"\"\"\n",
    "        result = self.encoder(input)\n",
    "\n",
    "        result = torch.flatten(result, start_dim=1)\n",
    "\n",
    "        # Split the result into mu and var components\n",
    "        # of the latent Gaussian distribution\n",
    "        result = self.linear(result)\n",
    "\n",
    "        mu = self.fc_mu(result)\n",
    "\n",
    "        log_var = self.fc_var(result)\n",
    "\n",
    "        #mu = self.sigmoid(mu)\n",
    "        #log_var = self.sigmoid(log_var)\n",
    "        return [mu, log_var]"
   ]
  },
  {
   "cell_type": "markdown",
   "id": "50c315d3",
   "metadata": {
    "pycharm": {
     "name": "#%% md\n"
    }
   },
   "source": [
    "## Decoder"
   ]
  },
  {
   "cell_type": "code",
   "execution_count": 6,
   "id": "dd70a2ee",
   "metadata": {
    "pycharm": {
     "name": "#%%\n"
    }
   },
   "outputs": [],
   "source": [
    "class Decoder(nn.Module):\n",
    "    def __init__(self,\n",
    "                 encoder_in_channels: int,\n",
    "                 latent_dim: int,\n",
    "                 hidden_dims: List = None,\n",
    "                 **kwargs) -> None:\n",
    "        super().__init__()\n",
    "        \n",
    "        self.encoder_in_channels = encoder_in_channels\n",
    "        \n",
    "        modules = []\n",
    "        if hidden_dims is None:\n",
    "            hidden_dims = [256, 128, 64, 32, 16]\n",
    "\n",
    "        # Build Decoder\n",
    "        #self.decoder_input = nn.Linear(latent_dim, hidden_dims[0] * 32 * 32)\n",
    "        self.decoder_input = nn.Sequential(\n",
    "            nn.Linear(latent_dim, 256),\n",
    "            nn.ReLU(),\n",
    "            nn.Linear(256, 1024),\n",
    "            nn.ReLU(),\n",
    "            nn.Linear(1024, hidden_dims[0] * 32 * 32),\n",
    "            nn.ReLU()\n",
    "        )\n",
    "\n",
    "        self.hidden = hidden_dims[0]\n",
    "        for i in range(len(hidden_dims) - 1):\n",
    "            modules.append(\n",
    "                nn.Sequential(\n",
    "                    nn.ConvTranspose2d(hidden_dims[i], hidden_dims[i],\n",
    "                                       kernel_size=3, stride=1, padding=1),\n",
    "                    nn.ConvTranspose2d(hidden_dims[i],\n",
    "                                       hidden_dims[i + 1],\n",
    "                                       kernel_size=3,\n",
    "                                       stride = 2,\n",
    "                                       padding=1,\n",
    "                                       output_padding=1),\n",
    "                    nn.BatchNorm2d(hidden_dims[i + 1]),\n",
    "                    nn.LeakyReLU())\n",
    "                    #nn.ReLU())\n",
    "            )\n",
    "\n",
    "        self.decoder = nn.Sequential(*modules)\n",
    "\n",
    "        self.final_layer = nn.Sequential(\n",
    "                            nn.ConvTranspose2d(hidden_dims[-1],\n",
    "                                               hidden_dims[-1],\n",
    "                                               kernel_size=3,\n",
    "                                               stride=2,\n",
    "                                               padding=1,\n",
    "                                               output_padding=1),\n",
    "                            nn.BatchNorm2d(hidden_dims[-1]),\n",
    "                            nn.LeakyReLU(),\n",
    "                            nn.Conv2d(hidden_dims[-1], out_channels=encoder_in_channels,\n",
    "                                      kernel_size=3, padding=1),\n",
    "                            nn.Tanh())\n",
    "\n",
    "    def forward(self, z: torch.Tensor) -> torch.Tensor:\n",
    "        result = self.decoder_input(z)\n",
    "        result = result.view(-1, self.hidden, 32, 32)\n",
    "        result = self.decoder(result)\n",
    "        result = self.final_layer(result)\n",
    "        return result"
   ]
  },
  {
   "cell_type": "markdown",
   "id": "410619b3",
   "metadata": {
    "pycharm": {
     "name": "#%% md\n"
    }
   },
   "source": [
    "## Beta-VAE"
   ]
  },
  {
   "cell_type": "code",
   "execution_count": 7,
   "id": "c6d93bb5",
   "metadata": {
    "pycharm": {
     "name": "#%%\n"
    }
   },
   "outputs": [],
   "source": [
    "class BetaVAE(nn.Module):\n",
    "    def __init__(self,\n",
    "                 in_channels: int,\n",
    "                 latent_dim: int,\n",
    "                 hidden_dims_encoder: List = None,\n",
    "                 hidden_dims_decoder: List = None,\n",
    "                 beta: int = 4,\n",
    "                 gamma:float = 1000.,\n",
    "                 max_capacity: int = 25,\n",
    "                 Capacity_max_iter: int = 1e5,\n",
    "                 loss_type:str = 'B',\n",
    "                 **kwargs) -> None:\n",
    "        super().__init__()\n",
    "\n",
    "        self.latent_dim = latent_dim\n",
    "        self.beta = beta\n",
    "        self.gamma = gamma\n",
    "        self.loss_type = loss_type\n",
    "        self.C_max = torch.Tensor([max_capacity])\n",
    "        self.C_stop_iter = Capacity_max_iter\n",
    "        self.num_iter = 0\n",
    "        \n",
    "        self.variational_encoder = VariationalEncoder(in_channels, latent_dim, hidden_dims_encoder)\n",
    "        self.decoder = Decoder(in_channels, latent_dim, hidden_dims_decoder)\n",
    "\n",
    "    def reparameterize(self, mu: torch.Tensor, logvar: torch.Tensor) -> torch.Tensor:\n",
    "        \"\"\"\n",
    "        :param mu: (Tensor) Mean of the latent Gaussian\n",
    "        :param logvar: (Tensor) Standard deviation of the latent Gaussian\n",
    "        :return:\n",
    "        \"\"\"\n",
    "        std = torch.exp(0.5 * logvar)\n",
    "        eps = torch.randn_like(std)\n",
    "        #eps = torch.normal(0.0, 1.0, std.size())\n",
    "        return eps * std + mu\n",
    "\n",
    "    def forward(self, input: torch.Tensor, **kwargs) -> torch.Tensor:\n",
    "        mu, log_var = self.variational_encoder(input)\n",
    "        z = self.reparameterize(mu, log_var)\n",
    "        return  [self.decoder(z), input, mu, log_var]\n",
    "    \n",
    "    def loss_function(self,\n",
    "                      *args,\n",
    "                      **kwargs) -> dict:\n",
    "        self.num_iter += 1\n",
    "        recons = args[0]\n",
    "        input = args[1]\n",
    "        mu = args[2]\n",
    "        log_var = args[3]\n",
    "\n",
    "        #print(f'mu: {mu}')\n",
    "        recons_loss = F.mse_loss(recons, input)\n",
    "        #print(f'recons_loss: {recons_loss}')\n",
    "        print(f'mu: {mu}')\n",
    "        recons_loss = F.binary_cross_entropy(recons, input)\n",
    "        print(f'recons_loss: {recons_loss}')\n",
    "        #why the sum factor?\n",
    "        #kl_loss = torch.mean(0.5 * torch.sum(torch.exp(log_var) + mu**2 - 1. - log_var, 1))\n",
    "        kld_loss = torch.mean(-0.5 * torch.sum(1 + log_var - mu ** 2 - log_var.exp(), dim = 1), dim = 0)\n",
    "        print(f'kld_loss: {kld_loss}')\n",
    "        #print(f'mu: {mu}')\n",
    "        recons_loss = F.mse_loss(recons, input)\n",
    "        #print(f'recons_loss: {recons_loss}')\n",
    "        #why the sum factor?\n",
    "        kl_loss = torch.mean(0.5 * torch.sum(torch.exp(log_var) + mu**2 - 1. - log_var, 1))\n",
    "        #kld_loss = torch.mean(-0.5 * torch.sum(1 + log_var - mu ** 2 - log_var.exp(), dim = 1), dim = 0)\n",
    "        #print(f'kld_loss: {kl_loss}')\n",
    "        if self.loss_type == 'H': # https://openreview.net/forum?id=Sy2fzU9gl\n",
    "            loss = recons_loss - self.beta * kl_loss\n",
    "            #print(f'loss: {loss}')\n",
    "        elif self.loss_type == 'B': # https://arxiv.org/pdf/1804.03599.pdf\n",
    "            self.C_max = self.C_max.to(input.device)\n",
    "            C = torch.clamp(self.C_max/self.C_stop_iter * self.num_iter, 0, self.C_max.data[0])\n",
    "            loss = recons_loss + self.gamma * (kld_loss - C).abs()\n",
    "        else:\n",
    "            raise ValueError('Undefined loss type.')\n",
    "\n",
    "        return {'loss': loss, 'Reconstruction_Loss':recons_loss.detach(), 'KLD':kl_loss.detach()}\n",
    "\n",
    "    def sample(self,\n",
    "               num_samples:int,\n",
    "               current_device: int, **kwargs) -> torch.Tensor:\n",
    "        \"\"\"\n",
    "        Samples from the latent space and return the corresponding\n",
    "        image space map.\n",
    "        :param num_samples: (Int) Number of samples\n",
    "        :param current_device: (Int) Device to run the model\n",
    "        :return: (Tensor)\n",
    "        \"\"\"\n",
    "        z = torch.randn(num_samples,\n",
    "                        self.latent_dim)\n",
    "\n",
    "        z = z.to(current_device)\n",
    "\n",
    "        samples = self.decode(z)\n",
    "        return samples\n",
    "\n",
    "    def generate(self, x: torch.Tensor, **kwargs) -> torch.Tensor:\n",
    "        \"\"\"\n",
    "        Given an input image x, returns the reconstructed image\n",
    "        :param x: (Tensor) [B x C x H x W]\n",
    "        :return: (Tensor) [B x C x H x W]\n",
    "        \"\"\"\n",
    "\n",
    "        return self.forward(x)[0]"
   ]
  },
  {
   "cell_type": "markdown",
   "id": "35959d94",
   "metadata": {
    "pycharm": {
     "name": "#%% md\n"
    }
   },
   "source": [
    "---"
   ]
  },
  {
   "cell_type": "markdown",
   "id": "acce8562",
   "metadata": {
    "pycharm": {
     "name": "#%% md\n"
    }
   },
   "source": [
    "# Training"
   ]
  },
  {
   "cell_type": "code",
   "execution_count": 8,
   "id": "12b0e00d",
   "metadata": {
    "pycharm": {
     "name": "#%%\n"
    }
   },
   "outputs": [],
   "source": [
    "from tqdm import tqdm\n",
    "def train(model, train_loader, optimizer, num_epochs=5, verbose=1):\n",
    "    '''\n",
    "    Train the model.\n",
    "    \n",
    "    Parameters\n",
    "    ----------\n",
    "    model: nn.Module\n",
    "        The model.\n",
    "    train_loader: DataLoader\n",
    "        A Pytorch Dataloader containing the training images.\n",
    "    num_epochs: optional, int \n",
    "        The number of epochs to train.\n",
    "    verbose: optional, int\n",
    "        Set the number of printing we want during training. For the moment, only 0 for no printing or another value\n",
    "        to get some information about the update.\n",
    "    \n",
    "    Return\n",
    "    ----------\n",
    "    loss_history: list\n",
    "        A list of training losses. One for each epoch of training.\n",
    "    '''\n",
    "    loss_history = []\n",
    "    best_loss = 0\n",
    "    device = 'cuda:0' if torch.cuda.is_available() else 'cpu'\n",
    "    for e in range(num_epochs):\n",
    "        if verbose:\n",
    "            print(f\"=========== EPOCH {e} ===========\")\n",
    "        total_loss = 0\n",
    "        number_samples = 0\n",
    "        for batch in tqdm(train_loader):\n",
    "            X = batch\n",
    "            X = X.to(device)\n",
    "            output = model(X)\n",
    "            loss = loss_fn(*output)\n",
    "            total_loss += loss[\"loss\"].detach()\n",
    "            number_samples += X.shape[0]\n",
    "            optimizer.zero_grad()\n",
    "            loss[\"loss\"].backward()\n",
    "            optimizer.step()\n",
    "            \n",
    "            # if verbose and i%50 == 0and not i==0:\n",
    "            #     print(f\"Done processing batch number {i}\")\n",
    "        print(f\"Mean loss = {total_loss/number_samples}\")\n",
    "\n",
    "        if e ==0 or total_loss < best_loss:\n",
    "            best_loss = total_loss\n",
    "            torch.save(model.state_dict(), \"/log/best_model.pth\")\n",
    "            print(f'Saved the best model')\n",
    "            print(f'New best loss {best_loss}')\n",
    "        loss_history.append(total_loss/number_samples)\n",
    "    return loss_history"
   ]
  },
  {
   "cell_type": "code",
   "execution_count": 9,
   "id": "f7229a98",
   "metadata": {
    "pycharm": {
     "name": "#%%\n"
    }
   },
   "outputs": [],
   "source": [
    "def plot_loss(epoch_losses, title='Loss'):\n",
    "    '''\n",
    "    Simple plot for the loss at each epoch.\n",
    "    \n",
    "    Parameters\n",
    "    ----------\n",
    "    epoch_losses: list\n",
    "        A list of training losses. One for each epoch of training.\n",
    "    title: optional, str\n",
    "        the title of the plot.\n",
    "    '''\n",
    "    plt.figure()\n",
    "    plt.plot(epoch_losses)\n",
    "    plt.title(title)\n",
    "    plt.xlabel('Epochs')\n",
    "    plt.ylabel('Loss')\n",
    "    plt.show()"
   ]
  },
  {
   "cell_type": "code",
   "execution_count": 10,
   "id": "9c2215f9",
   "metadata": {
    "pycharm": {
     "name": "#%%\n"
    }
   },
   "outputs": [],
   "source": [
    "# Compute the dataloader for training and testing using our custom dataset\n",
    "IMG_DIR = \"../backend-project/data/images_001/images\"\n",
    "BATCH_SIZE = 16\n",
    "\n",
    "training_data = XRayDataset(\n",
    "    img_dir=IMG_DIR,\n",
    "    train=True,\n",
    "    transform=ToTensor() #This method directly scale the image in [0, 1] range\n",
    ")\n",
    "\n",
    "test_data = XRayDataset(\n",
    "    img_dir=IMG_DIR,\n",
    "    train=False,\n",
    "    transform=ToTensor() #This method directly scale the image in [0, 1] range\n",
    ")\n",
    "\n",
    "train_loader = DataLoader(training_data,\n",
    "                          batch_size=BATCH_SIZE,\n",
    "                          shuffle=True)\n",
    "test_loader = DataLoader(test_data, \n",
    "                         batch_size=BATCH_SIZE, \n",
    "                         shuffle=True)"
   ]
  },
  {
   "cell_type": "code",
   "execution_count": 11,
   "id": "123ce77a",
   "metadata": {
    "pycharm": {
     "name": "#%%\n"
    }
   },
   "outputs": [
    {
     "name": "stdout",
     "output_type": "stream",
     "text": [
      "Using device cuda:0\n"
     ]
    },
    {
     "name": "stderr",
     "output_type": "stream",
     "text": [
      "/home/jimmy/anaconda3/envs/eegeyenet_benchmark/lib/python3.8/site-packages/torch/cuda/__init__.py:104: UserWarning: \n",
      "NVIDIA GeForce RTX 3080 with CUDA capability sm_86 is not compatible with the current PyTorch installation.\n",
      "The current PyTorch install supports CUDA capabilities sm_37 sm_50 sm_60 sm_61 sm_70 sm_75 compute_37.\n",
      "If you want to use the NVIDIA GeForce RTX 3080 GPU with PyTorch, please check the instructions at https://pytorch.org/get-started/locally/\n",
      "\n",
      "  warnings.warn(incompatible_device_warn.format(device_name, capability, \" \".join(arch_list), device_name))\n"
     ]
      "=========== EPOCH 0 ===========\n",
      "Done processing batch number 100\n",
      "Done processing batch number 200\n",
      "Done processing batch number 300\n",
      "Done processing batch number 400\n",
      "Done processing batch number 500\n",
      "Done processing batch number 600\n",
      "Done processing batch number 700\n",
      "Done processing batch number 800\n",
      "Done processing batch number 900\n",
      "Done processing batch number 1000\n",
      "Done processing batch number 1100\n",
      "Done processing batch number 1200\n",
      "Done processing batch number 1300\n",
      "Done processing batch number 1400\n",
      "Done processing batch number 1500\n",
      "Done processing batch number 1600\n",
      "Done processing batch number 1700\n",
      "Done processing batch number 1800\n",
      "Done processing batch number 1900\n",
      "Done processing batch number 2000\n",
      "Done processing batch number 2100\n",
      "Done processing batch number 2200\n",
      "Done processing batch number 2300\n",
      "Done processing batch number 2400\n",
      "Mean loss = tensor([158.9918])\n",
      "=========== EPOCH 1 ===========\n",
      "Done processing batch number 100\n",
      "Done processing batch number 200\n",
      "Done processing batch number 300\n",
      "Done processing batch number 400\n",
      "Done processing batch number 500\n",
      "Done processing batch number 600\n",
      "Done processing batch number 700\n",
      "Done processing batch number 800\n",
      "Done processing batch number 900\n",
      "Done processing batch number 1000\n",
      "Done processing batch number 1100\n",
      "Done processing batch number 1200\n",
      "Done processing batch number 1300\n",
      "Done processing batch number 1400\n",
      "Done processing batch number 1500\n",
      "Done processing batch number 1600\n",
      "Done processing batch number 1700\n",
      "Done processing batch number 1800\n",
      "Done processing batch number 1900\n",
      "Done processing batch number 2000\n",
      "Done processing batch number 2100\n",
      "Done processing batch number 2200\n",
      "Done processing batch number 2300\n",
      "Done processing batch number 2400\n",
      "Mean loss = tensor([468.9227])\n",
      "=========== EPOCH 2 ===========\n",
      "Done processing batch number 100\n",
      "Done processing batch number 200\n",
      "Done processing batch number 300\n",
      "Done processing batch number 400\n",
      "Done processing batch number 500\n",
      "Done processing batch number 600\n",
      "Done processing batch number 700\n",
      "Done processing batch number 800\n",
      "Done processing batch number 900\n",
      "Done processing batch number 1000\n",
      "Done processing batch number 1100\n",
      "Done processing batch number 1200\n",
      "Done processing batch number 1300\n",
      "Done processing batch number 1400\n",
      "Done processing batch number 1500\n",
      "Done processing batch number 1600\n",
      "Done processing batch number 1700\n",
      "Done processing batch number 1800\n",
      "Done processing batch number 1900\n",
      "Done processing batch number 2000\n",
      "Done processing batch number 2100\n",
      "Done processing batch number 2200\n",
      "Done processing batch number 2300\n",
      "Done processing batch number 2400\n",
      "Mean loss = tensor([781.4755])\n",
      "=========== EPOCH 3 ===========\n",
      "Done processing batch number 100\n",
      "Done processing batch number 200\n",
      "Done processing batch number 300\n",
      "Done processing batch number 400\n",
      "Done processing batch number 500\n",
      "Done processing batch number 600\n",
      "Done processing batch number 700\n",
      "Done processing batch number 800\n",
      "Done processing batch number 900\n",
      "Done processing batch number 1000\n",
      "Done processing batch number 1100\n",
      "Done processing batch number 1200\n",
      "Done processing batch number 1300\n",
      "Done processing batch number 1400\n",
      "Done processing batch number 1500\n",
      "Done processing batch number 1600\n",
      "Done processing batch number 1700\n",
      "Done processing batch number 1800\n",
      "Done processing batch number 1900\n",
      "Done processing batch number 2000\n",
      "Done processing batch number 2100\n",
      "Done processing batch number 2200\n",
      "Done processing batch number 2300\n",
      "Done processing batch number 2400\n",
      "Mean loss = tensor([1094.0492])\n",
      "=========== EPOCH 4 ===========\n",
      "Done processing batch number 100\n",
      "Done processing batch number 200\n",
      "Done processing batch number 300\n",
      "Done processing batch number 400\n",
      "Done processing batch number 500\n",
      "Done processing batch number 600\n",
      "Done processing batch number 700\n",
      "Done processing batch number 800\n",
      "Done processing batch number 900\n",
      "Done processing batch number 1000\n",
      "Done processing batch number 1100\n",
      "Done processing batch number 1200\n",
      "Done processing batch number 1300\n",
      "Done processing batch number 1400\n",
      "Done processing batch number 1500\n",
      "Done processing batch number 1600\n",
      "Done processing batch number 1700\n",
      "Done processing batch number 1800\n",
      "Done processing batch number 1900\n",
      "Done processing batch number 2000\n",
      "Done processing batch number 2100\n",
      "Done processing batch number 2200\n",
      "Done processing batch number 2300\n",
      "Done processing batch number 2400\n",
      "Mean loss = tensor([1406.6208])\n",
      "=========== EPOCH 5 ===========\n",
      "Done processing batch number 100\n",
      "Done processing batch number 200\n",
      "Done processing batch number 300\n",
      "Done processing batch number 400\n",
      "Done processing batch number 500\n",
      "Done processing batch number 600\n",
      "Done processing batch number 700\n",
      "Done processing batch number 800\n",
      "Done processing batch number 900\n",
      "Done processing batch number 1000\n",
      "Done processing batch number 1100\n",
      "Done processing batch number 1200\n",
      "Done processing batch number 1300\n",
      "Done processing batch number 1400\n",
      "Done processing batch number 1500\n",
      "Done processing batch number 1600\n",
      "Done processing batch number 1700\n",
      "Done processing batch number 1800\n",
      "Done processing batch number 1900\n",
      "Done processing batch number 2000\n",
      "Done processing batch number 2100\n",
      "Done processing batch number 2200\n",
      "Done processing batch number 2300\n",
      "Done processing batch number 2400\n",
      "Mean loss = tensor([1719.1897])\n",
      "=========== EPOCH 6 ===========\n",
      "Done processing batch number 100\n",
      "Done processing batch number 200\n",
      "Done processing batch number 300\n",
      "Done processing batch number 400\n",
      "Done processing batch number 500\n",
      "Done processing batch number 600\n",
      "Done processing batch number 700\n",
      "Done processing batch number 800\n",
      "Done processing batch number 900\n",
      "Done processing batch number 1000\n",
      "Done processing batch number 1100\n",
      "Done processing batch number 1200\n",
      "Done processing batch number 1300\n",
      "Done processing batch number 1400\n",
      "Done processing batch number 1500\n",
      "Done processing batch number 1600\n",
      "Done processing batch number 1700\n",
      "Done processing batch number 1800\n",
      "Done processing batch number 1900\n",
      "Done processing batch number 2000\n",
      "Done processing batch number 2100\n",
      "Done processing batch number 2200\n",
      "Done processing batch number 2300\n",
      "Done processing batch number 2400\n",
      "Mean loss = tensor([2031.7567])\n",
      "=========== EPOCH 7 ===========\n",
      "Done processing batch number 100\n",
      "Done processing batch number 200\n",
      "Done processing batch number 300\n",
      "Done processing batch number 400\n",
      "Done processing batch number 500\n",
      "Done processing batch number 600\n",
      "Done processing batch number 700\n",
      "Done processing batch number 800\n",
      "Done processing batch number 900\n",
      "Done processing batch number 1000\n",
      "Done processing batch number 1100\n",
      "Done processing batch number 1200\n",
      "Done processing batch number 1300\n",
      "Done processing batch number 1400\n",
      "Done processing batch number 1500\n",
      "Done processing batch number 1600\n",
      "Done processing batch number 1700\n",
      "Done processing batch number 1800\n",
      "Done processing batch number 1900\n",
      "Done processing batch number 2000\n",
      "Done processing batch number 2100\n",
      "Done processing batch number 2200\n",
      "Done processing batch number 2300\n",
      "Done processing batch number 2400\n",
      "Mean loss = tensor([2344.3225])\n",
      "=========== EPOCH 8 ===========\n",
      "Done processing batch number 100\n",
      "Done processing batch number 200\n",
      "Done processing batch number 300\n",
      "Done processing batch number 400\n",
      "Done processing batch number 500\n",
      "Done processing batch number 600\n",
      "Done processing batch number 700\n",
      "Done processing batch number 800\n",
      "Done processing batch number 900\n",
      "Done processing batch number 1000\n",
      "Done processing batch number 1100\n",
      "Done processing batch number 1200\n",
      "Done processing batch number 1300\n",
      "Done processing batch number 1400\n",
      "Done processing batch number 1500\n",
      "Done processing batch number 1600\n",
      "Done processing batch number 1700\n",
      "Done processing batch number 1800\n",
      "Done processing batch number 1900\n",
      "Done processing batch number 2000\n",
      "Done processing batch number 2100\n",
      "Done processing batch number 2200\n",
      "Done processing batch number 2300\n",
      "Done processing batch number 2400\n",
      "Mean loss = tensor([2656.8877])\n",
      "=========== EPOCH 9 ===========\n",
      "Done processing batch number 100\n",
      "Done processing batch number 200\n",
      "Done processing batch number 300\n",
      "Done processing batch number 400\n",
      "Done processing batch number 500\n",
      "Done processing batch number 600\n",
      "Done processing batch number 700\n",
      "Done processing batch number 800\n",
      "Done processing batch number 900\n",
      "Done processing batch number 1000\n"
     ]
    },
    {
     "name": "stdout",
     "output_type": "stream",
     "text": [
      "Done processing batch number 1100\n",
      "Done processing batch number 1200\n",
      "Done processing batch number 1300\n",
      "Done processing batch number 1400\n",
      "Done processing batch number 1500\n",
      "Done processing batch number 1600\n",
      "Done processing batch number 1700\n",
      "Done processing batch number 1800\n",
      "Done processing batch number 1900\n",
      "Done processing batch number 2000\n",
      "Done processing batch number 2100\n",
      "Done processing batch number 2200\n",
      "Done processing batch number 2300\n",
      "Done processing batch number 2400\n",
      "Mean loss = tensor([2969.4524])\n"
     ]
    },
    {
     "name": "stderr",
     "output_type": "stream",
     "text": [
      "/home/loic/Enter/envs/Project_IML/lib/python3.10/site-packages/numpy/core/shape_base.py:65: FutureWarning: The input object of type 'Tensor' is an array-like implementing one of the corresponding protocols (`__array__`, `__array_interface__` or `__array_struct__`); but not a sequence (or 0-D). In the future, this object will be coerced as if it was first converted using `np.array(obj)`. To retain the old behaviour, you have to either modify the type 'Tensor', or assign to an empty array created with `np.empty(correct_shape, dtype=object)`.\n",
      "  ary = asanyarray(ary)\n",
      "/home/loic/Enter/envs/Project_IML/lib/python3.10/site-packages/numpy/core/shape_base.py:65: VisibleDeprecationWarning: Creating an ndarray from ragged nested sequences (which is a list-or-tuple of lists-or-tuples-or ndarrays with different lengths or shapes) is deprecated. If you meant to do this, you must specify 'dtype=object' when creating the ndarray.\n",
      "  ary = asanyarray(ary)\n"
     ]
    },
    {
     "data": {
      "image/png": "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\n",
      "text/plain": [
       "<Figure size 432x288 with 1 Axes>"
      ]
     },
     "metadata": {
      "needs_background": "light"
     },
     "output_type": "display_data"
    }
   ],
   "source": [
    "# Create our autoencoder and train it\n",
    "# Parameters\n",
    "NUM_EPOCHS = 2\n",
    "LEARNING_RATE = 1e-4\n",
    "\n",
    "LATENT_SPACE_DIM = 16\n",
    "device = 'cuda:0' if torch.cuda.is_available() else 'cpu'\n",
    "print(f'Using device {device}')\n",
    "# Model\n",
    "beta_vae = BetaVAE(in_channels=1, latent_dim=LATENT_SPACE_DIM)\n",
    "\n",
    "beta_vae.to(device)\n",
    "# Loss function & optimizer\n",
    "loss_fn = beta_vae.loss_function\n",
    "optimizer = optim.Adam(beta_vae.parameters(),\n",
    "                       lr=LEARNING_RATE)\n",
    "\n",
    "epoch_losses = train(beta_vae, train_loader, optimizer, num_epochs=NUM_EPOCHS)\n",
    "plot_loss(epoch_losses, 'Training Loss')"
   ]
  },
  {
   "cell_type": "code",
   "execution_count": 12,
   "id": "eb359407",
   "metadata": {
    "pycharm": {
     "name": "#%%\n"
    }
   },
   "outputs": [],
   "source": [
    "from torchvision.transforms import ToPILImage\n",
    "transform = ToPILImage()"
   ]
  },
  {
   "cell_type": "code",
   "execution_count": 15,
   "id": "4a97f95b",
   "metadata": {
    "pycharm": {
     "name": "#%%\n"
    }
   },
   "outputs": [
    {
     "data": {
      "text/plain": [
       "torch.Size([1, 1, 1024, 1024])"
      ]
     },
     "execution_count": 15,
     "metadata": {},
     "output_type": "execute_result"
    }
   ],
   "source": [
    "image_generated.size()"
   ]
  },
  {
   "cell_type": "code",
   "execution_count": 17,
   "id": "3b50dadc",
   "metadata": {
    "pycharm": {
     "name": "#%%\n"
    }
   },
   "outputs": [
    {
     "name": "stderr",
     "output_type": "stream",
     "text": [
      "\n",
      "(eog:14850): EOG-CRITICAL **: 08:13:03.277: eog_list_store_get_pos_by_image: assertion 'EOG_IS_IMAGE (image)' failed\n",
      "\n",
      "(eog:14850): EOG-CRITICAL **: 08:13:03.356: eog_image_get_file: assertion 'EOG_IS_IMAGE (img)' failed\n",
      "\n",
      "(eog:14850): GLib-GIO-CRITICAL **: 08:13:03.356: g_file_equal: assertion 'G_IS_FILE (file1)' failed\n"
     ]
    }
   ],
   "source": [
    "image_generated = beta_vae.generate(test_data[1].unsqueeze(dim=0))\n",
    "transform(image_generated[0]).show()\n",
    "transform(test_data[1]).show()"
   ]
  },
  {
   "cell_type": "code",
   "execution_count": null,
   "id": "594767f5",
   "metadata": {
    "pycharm": {
     "name": "#%%\n"
    }
   },
   "outputs": [],
   "source": [
    "#torch.save(beta_vae.state_dict(), './log/beta_vae.pt')"
   ]
  },
  {
   "cell_type": "code",
   "execution_count": 16,
   "outputs": [],
   "source": [
    "from torchvision.transforms import ToPILImage\n",
    "transform = ToPILImage()"
   ],
   "metadata": {
    "collapsed": false,
    "pycharm": {
     "name": "#%%\n"
    }
   }
  },
  {
   "cell_type": "code",
   "execution_count": null,
   "outputs": [],
   "source": [
    "beta_vae = BetaVAE(in_channels=1, latent_dim=64)\n",
    "beta_vae.load_state_dict(torch.load('./log/best_model.pth'))"
   ],
   "metadata": {
    "collapsed": false,
    "pycharm": {
     "name": "#%%\n",
     "is_executing": true
    }
   }
  },
  {
   "cell_type": "code",
   "execution_count": null,
   "outputs": [],
   "source": [
    "image_generated = beta_vae.generate(test_data[1].unsqueeze(dim=0))\n",
    "transform(image_generated[0]).show()\n",
    "transform(test_data[1]).show()"
   ],
   "metadata": {
    "collapsed": false,
    "pycharm": {
     "name": "#%%\n",
     "is_executing": true
    }
   }
  },
  {
   "cell_type": "code",
   "execution_count": null,
   "outputs": [],
   "source": [
    "-"
   ],
   "metadata": {
    "collapsed": false,
    "pycharm": {
     "name": "#%%\n"
    }
   }
  }
 ],
 "metadata": {
  "kernelspec": {
   "display_name": "Python 3 (ipykernel)",
   "language": "python",
   "name": "python3"
  },
  "language_info": {
   "codemirror_mode": {
    "name": "ipython",
    "version": 3
   },
   "file_extension": ".py",
   "mimetype": "text/x-python",
   "name": "python",
   "nbconvert_exporter": "python",
   "pygments_lexer": "ipython3",
   "version": "3.10.4"
  }
 },
 "nbformat": 4,
 "nbformat_minor": 5
}
