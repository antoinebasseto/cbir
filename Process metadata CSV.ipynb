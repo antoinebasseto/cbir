{
 "cells": [
  {
   "cell_type": "markdown",
   "id": "11ddb83f",
   "metadata": {},
   "source": [
    "# Process metadata CSV"
   ]
  },
  {
   "cell_type": "code",
   "execution_count": 6,
   "id": "a83ef3af",
   "metadata": {},
   "outputs": [],
   "source": [
    "import pandas as pd\n",
    "import numpy as np\n",
    "import umap.umap_ as umap\n",
    "import joblib"
   ]
  },
  {
   "cell_type": "code",
   "execution_count": 7,
   "id": "4163f38a",
   "metadata": {},
   "outputs": [],
   "source": [
    "df = pd.read_csv(\"backend-project/data/HAM10000_metadata.csv\")"
   ]
  },
  {
   "cell_type": "markdown",
   "id": "9bc36446",
   "metadata": {},
   "source": [
    "---\n",
    "## Populate with latent space coordinates"
   ]
  },
  {
   "cell_type": "code",
   "execution_count": 8,
   "id": "af38bb19",
   "metadata": {},
   "outputs": [],
   "source": [
    "#TODO\n",
    "for i in range(12):\n",
    "    df['latent_coordinate' + str(i)] = np.random.randint(-1000, 1000, df.shape[0])"
   ]
  },
  {
   "cell_type": "markdown",
   "id": "3a1dfd33",
   "metadata": {},
   "source": [
    "---\n",
    "## Populate with UMAP coordinates, and save UMAP model"
   ]
  },
  {
   "cell_type": "code",
   "execution_count": 9,
   "id": "02a18d74",
   "metadata": {},
   "outputs": [],
   "source": [
    "latent_coordinates = df[['latent_coordinate' + str(i) for i in range(12)]]"
   ]
  },
  {
   "cell_type": "code",
   "execution_count": 10,
   "id": "2364d42a",
   "metadata": {},
   "outputs": [],
   "source": [
    "# Fit UMAP model\n",
    "reducer = umap.UMAP(random_state=0)\n",
    "reducer = reducer.fit(latent_coordinates)"
   ]
  },
  {
   "cell_type": "code",
   "execution_count": 11,
   "id": "494230e8",
   "metadata": {},
   "outputs": [
    {
     "data": {
      "text/plain": [
       "['umap.sav']"
      ]
     },
     "execution_count": 11,
     "metadata": {},
     "output_type": "execute_result"
    }
   ],
   "source": [
    "# Serialize UMAP model\n",
    "joblib.dump(reducer, \"umap.sav\")"
   ]
  },
  {
   "cell_type": "code",
   "execution_count": 13,
   "id": "f9c114ff",
   "metadata": {},
   "outputs": [],
   "source": [
    "# Get UMAP coordinates\n",
    "embeddings = reducer.transform(latent_coordinates)\n",
    "df[\"umap1\"] = [embedding[0] for embedding in embeddings]\n",
    "df[\"umap2\"] = [embedding[1] for embedding in embeddings]"
   ]
  },
  {
   "cell_type": "markdown",
   "id": "0ad5c2de",
   "metadata": {},
   "source": [
    "---\n",
    "## Save CSV"
   ]
  },
  {
   "cell_type": "code",
   "execution_count": 14,
   "id": "82d978e9",
   "metadata": {},
   "outputs": [
    {
     "data": {
      "text/html": [
       "<div>\n",
       "<style scoped>\n",
       "    .dataframe tbody tr th:only-of-type {\n",
       "        vertical-align: middle;\n",
       "    }\n",
       "\n",
       "    .dataframe tbody tr th {\n",
       "        vertical-align: top;\n",
       "    }\n",
       "\n",
       "    .dataframe thead th {\n",
       "        text-align: right;\n",
       "    }\n",
       "</style>\n",
       "<table border=\"1\" class=\"dataframe\">\n",
       "  <thead>\n",
       "    <tr style=\"text-align: right;\">\n",
       "      <th></th>\n",
       "      <th>lesion_id</th>\n",
       "      <th>image_id</th>\n",
       "      <th>dx</th>\n",
       "      <th>dx_type</th>\n",
       "      <th>age</th>\n",
       "      <th>sex</th>\n",
       "      <th>localization</th>\n",
       "      <th>latent_coordinate0</th>\n",
       "      <th>latent_coordinate1</th>\n",
       "      <th>latent_coordinate2</th>\n",
       "      <th>...</th>\n",
       "      <th>latent_coordinate4</th>\n",
       "      <th>latent_coordinate5</th>\n",
       "      <th>latent_coordinate6</th>\n",
       "      <th>latent_coordinate7</th>\n",
       "      <th>latent_coordinate8</th>\n",
       "      <th>latent_coordinate9</th>\n",
       "      <th>latent_coordinate10</th>\n",
       "      <th>latent_coordinate11</th>\n",
       "      <th>umap1</th>\n",
       "      <th>umap2</th>\n",
       "    </tr>\n",
       "  </thead>\n",
       "  <tbody>\n",
       "    <tr>\n",
       "      <th>0</th>\n",
       "      <td>HAM_0000118</td>\n",
       "      <td>ISIC_0027419</td>\n",
       "      <td>bkl</td>\n",
       "      <td>histo</td>\n",
       "      <td>80.0</td>\n",
       "      <td>male</td>\n",
       "      <td>scalp</td>\n",
       "      <td>183</td>\n",
       "      <td>847</td>\n",
       "      <td>915</td>\n",
       "      <td>...</td>\n",
       "      <td>491</td>\n",
       "      <td>-889</td>\n",
       "      <td>591</td>\n",
       "      <td>-93</td>\n",
       "      <td>-347</td>\n",
       "      <td>231</td>\n",
       "      <td>903</td>\n",
       "      <td>855</td>\n",
       "      <td>6.336992</td>\n",
       "      <td>3.048053</td>\n",
       "    </tr>\n",
       "    <tr>\n",
       "      <th>1</th>\n",
       "      <td>HAM_0000118</td>\n",
       "      <td>ISIC_0025030</td>\n",
       "      <td>bkl</td>\n",
       "      <td>histo</td>\n",
       "      <td>80.0</td>\n",
       "      <td>male</td>\n",
       "      <td>scalp</td>\n",
       "      <td>920</td>\n",
       "      <td>-710</td>\n",
       "      <td>-409</td>\n",
       "      <td>...</td>\n",
       "      <td>251</td>\n",
       "      <td>-92</td>\n",
       "      <td>-938</td>\n",
       "      <td>-343</td>\n",
       "      <td>-36</td>\n",
       "      <td>-665</td>\n",
       "      <td>-299</td>\n",
       "      <td>139</td>\n",
       "      <td>2.735142</td>\n",
       "      <td>3.801311</td>\n",
       "    </tr>\n",
       "    <tr>\n",
       "      <th>2</th>\n",
       "      <td>HAM_0002730</td>\n",
       "      <td>ISIC_0026769</td>\n",
       "      <td>bkl</td>\n",
       "      <td>histo</td>\n",
       "      <td>80.0</td>\n",
       "      <td>male</td>\n",
       "      <td>scalp</td>\n",
       "      <td>847</td>\n",
       "      <td>238</td>\n",
       "      <td>638</td>\n",
       "      <td>...</td>\n",
       "      <td>982</td>\n",
       "      <td>-960</td>\n",
       "      <td>433</td>\n",
       "      <td>956</td>\n",
       "      <td>-353</td>\n",
       "      <td>994</td>\n",
       "      <td>-835</td>\n",
       "      <td>944</td>\n",
       "      <td>6.763124</td>\n",
       "      <td>3.281678</td>\n",
       "    </tr>\n",
       "    <tr>\n",
       "      <th>3</th>\n",
       "      <td>HAM_0002730</td>\n",
       "      <td>ISIC_0025661</td>\n",
       "      <td>bkl</td>\n",
       "      <td>histo</td>\n",
       "      <td>80.0</td>\n",
       "      <td>male</td>\n",
       "      <td>scalp</td>\n",
       "      <td>395</td>\n",
       "      <td>283</td>\n",
       "      <td>29</td>\n",
       "      <td>...</td>\n",
       "      <td>-844</td>\n",
       "      <td>96</td>\n",
       "      <td>-530</td>\n",
       "      <td>-807</td>\n",
       "      <td>-823</td>\n",
       "      <td>-981</td>\n",
       "      <td>888</td>\n",
       "      <td>899</td>\n",
       "      <td>1.365654</td>\n",
       "      <td>4.038083</td>\n",
       "    </tr>\n",
       "    <tr>\n",
       "      <th>4</th>\n",
       "      <td>HAM_0001466</td>\n",
       "      <td>ISIC_0031633</td>\n",
       "      <td>bkl</td>\n",
       "      <td>histo</td>\n",
       "      <td>75.0</td>\n",
       "      <td>male</td>\n",
       "      <td>ear</td>\n",
       "      <td>313</td>\n",
       "      <td>46</td>\n",
       "      <td>-104</td>\n",
       "      <td>...</td>\n",
       "      <td>523</td>\n",
       "      <td>579</td>\n",
       "      <td>-188</td>\n",
       "      <td>487</td>\n",
       "      <td>-212</td>\n",
       "      <td>-956</td>\n",
       "      <td>961</td>\n",
       "      <td>-764</td>\n",
       "      <td>5.678465</td>\n",
       "      <td>5.230410</td>\n",
       "    </tr>\n",
       "  </tbody>\n",
       "</table>\n",
       "<p>5 rows × 21 columns</p>\n",
       "</div>"
      ],
      "text/plain": [
       "     lesion_id      image_id   dx dx_type   age   sex localization  \\\n",
       "0  HAM_0000118  ISIC_0027419  bkl   histo  80.0  male        scalp   \n",
       "1  HAM_0000118  ISIC_0025030  bkl   histo  80.0  male        scalp   \n",
       "2  HAM_0002730  ISIC_0026769  bkl   histo  80.0  male        scalp   \n",
       "3  HAM_0002730  ISIC_0025661  bkl   histo  80.0  male        scalp   \n",
       "4  HAM_0001466  ISIC_0031633  bkl   histo  75.0  male          ear   \n",
       "\n",
       "   latent_coordinate0  latent_coordinate1  latent_coordinate2  ...  \\\n",
       "0                 183                 847                 915  ...   \n",
       "1                 920                -710                -409  ...   \n",
       "2                 847                 238                 638  ...   \n",
       "3                 395                 283                  29  ...   \n",
       "4                 313                  46                -104  ...   \n",
       "\n",
       "   latent_coordinate4  latent_coordinate5  latent_coordinate6  \\\n",
       "0                 491                -889                 591   \n",
       "1                 251                 -92                -938   \n",
       "2                 982                -960                 433   \n",
       "3                -844                  96                -530   \n",
       "4                 523                 579                -188   \n",
       "\n",
       "   latent_coordinate7  latent_coordinate8  latent_coordinate9  \\\n",
       "0                 -93                -347                 231   \n",
       "1                -343                 -36                -665   \n",
       "2                 956                -353                 994   \n",
       "3                -807                -823                -981   \n",
       "4                 487                -212                -956   \n",
       "\n",
       "   latent_coordinate10  latent_coordinate11     umap1     umap2  \n",
       "0                  903                  855  6.336992  3.048053  \n",
       "1                 -299                  139  2.735142  3.801311  \n",
       "2                 -835                  944  6.763124  3.281678  \n",
       "3                  888                  899  1.365654  4.038083  \n",
       "4                  961                 -764  5.678465  5.230410  \n",
       "\n",
       "[5 rows x 21 columns]"
      ]
     },
     "execution_count": 14,
     "metadata": {},
     "output_type": "execute_result"
    }
   ],
   "source": [
    "df.head()"
   ]
  },
  {
   "cell_type": "code",
   "execution_count": 15,
   "id": "92fd3926",
   "metadata": {},
   "outputs": [],
   "source": [
    "df.to_csv(\"HAM10000_metadata_processed.csv\", index=False)"
   ]
  }
 ],
 "metadata": {
  "kernelspec": {
   "display_name": "Python 3 (ipykernel)",
   "language": "python",
   "name": "python3"
  },
  "language_info": {
   "codemirror_mode": {
    "name": "ipython",
    "version": 3
   },
   "file_extension": ".py",
   "mimetype": "text/x-python",
   "name": "python",
   "nbconvert_exporter": "python",
   "pygments_lexer": "ipython3",
   "version": "3.10.0"
  }
 },
 "nbformat": 4,
 "nbformat_minor": 5
}
