{
 "cells": [
  {
   "cell_type": "markdown",
   "id": "11ddb83f",
   "metadata": {
    "pycharm": {
     "name": "#%% md\n"
    }
   },
   "source": [
    "# Process metadata CSV"
   ]
  },
  {
   "cell_type": "code",
   "execution_count": 15,
   "id": "a83ef3af",
   "metadata": {
    "pycharm": {
     "name": "#%%\n"
    }
   },
   "outputs": [],
   "source": [
    "import pandas as pd\n",
    "import numpy as np\n",
    "import umap.umap_ as umap\n",
    "import joblib\n",
    "import torch\n",
    "import torchvision.transforms as T\n",
    "from config import config\n",
    "from src.utils.model_factory import get_model\n",
    "from src.models.hyperparameters import params\n",
    "from itertools import tee"
   ]
  },
  {
   "cell_type": "code",
   "execution_count": 2,
   "id": "4163f38a",
   "metadata": {
    "pycharm": {
     "name": "#%%\n"
    }
   },
   "outputs": [],
   "source": [
    "df = pd.read_csv(\"data/HAM10000/HAM10000_metadata.csv\")"
   ]
  },
  {
   "cell_type": "markdown",
   "id": "9bc36446",
   "metadata": {
    "pycharm": {
     "name": "#%% md\n"
    }
   },
   "source": [
    "---\n",
    "## Populate with latent space coordinates"
   ]
  },
  {
   "cell_type": "code",
   "execution_count": 3,
   "outputs": [],
   "source": [
    "input_dim = params[config['model']]['input_dim']\n",
    "batch_size = params[config['model']]['batch_size']\n",
    "transform = T.Compose([T.Resize((input_dim, input_dim)), T.ToTensor()])\n",
    "model_path = '/home/jimmy/Medical1-xai-iml22/LightningVAE/reports/logs/20220513-033014_BetaVAEConv/epoch=61-step=9734.ckpt'\n",
    "file_dir = '/home/jimmy/Medical1-xai-iml22/backend-project/data/images'\n",
    "pretrained_model = get_model(params[config['model']], config['model'], f'')\n",
    "pretrained_model = pretrained_model.load_from_checkpoint(model_path)\n"
   ],
   "metadata": {
    "collapsed": false,
    "pycharm": {
     "name": "#%%\n"
    }
   }
  },
  {
   "cell_type": "code",
   "execution_count": 4,
   "outputs": [],
   "source": [
    "file_names = df['image_id'].tolist()\n",
    "file_names = [f'{name}.jpg' for name in file_names]"
   ],
   "metadata": {
    "collapsed": false,
    "pycharm": {
     "name": "#%%\n"
    }
   }
  },
  {
   "cell_type": "code",
   "execution_count": 5,
   "outputs": [
    {
     "data": {
      "text/plain": "10015"
     },
     "execution_count": 5,
     "metadata": {},
     "output_type": "execute_result"
    }
   ],
   "source": [
    "len(file_names)"
   ],
   "metadata": {
    "collapsed": false,
    "pycharm": {
     "name": "#%%\n"
    }
   }
  },
  {
   "cell_type": "code",
   "execution_count": 6,
   "id": "af38bb19",
   "metadata": {
    "pycharm": {
     "name": "#%%\n"
    }
   },
   "outputs": [],
   "source": [
    "from PIL import Image\n",
    "import re\n",
    "import os\n",
    "from torch.utils.data import Dataset\n",
    "\n",
    "#TODO\n",
    "file_names = df['image_id'].tolist()\n",
    "file_names = [f'{name}.jpg' for name in file_names]\n",
    "\n",
    "class PredictDataset(Dataset):\n",
    "    '''\n",
    "    Class to represent our dataset of XRay images. Subclass of torch.utils.data.Dataset. Store the image directory,\n",
    "    images name, bounding boxes and data of the images we will use either for training or testing.\n",
    "    '''\n",
    "\n",
    "    def __init__(self, img_dir, images_name, transform=None):\n",
    "        self.img_dir = img_dir\n",
    "        # Read all the names of the PNG files in the directory\n",
    "        images_dir = np.array([name for name in os.listdir(img_dir) if\n",
    "                                os.path.isfile(os.path.join(img_dir, name)) and\n",
    "                                (re.search('png$', name) is not None or re.search('jpg$', name) is not None)])\n",
    "        print(len(images_name))\n",
    "        for i in images_name:\n",
    "            if i not in images_dir:\n",
    "                raise Exception(f'{i} not contained')\n",
    "        self.images_name = np.array(images_name)\n",
    "        self.transform = transform\n",
    "    def __len__(self):\n",
    "        '''\n",
    "        Overload: return the length of the dataset\n",
    "\n",
    "        Return\n",
    "        ----------\n",
    "        length: înt:\n",
    "            The length of the dataset\n",
    "        '''\n",
    "        return self.images_name.shape[0]\n",
    "\n",
    "    def __getitem__(self, idx):\n",
    "\n",
    "        img_path = os.path.join(self.img_dir, self.images_name[idx])\n",
    "        img = Image.open(img_path)\n",
    "        if self.transform:\n",
    "            image = self.transform(img)\n",
    "        return image"
   ]
  },
  {
   "cell_type": "code",
   "execution_count": 7,
   "outputs": [
    {
     "name": "stdout",
     "output_type": "stream",
     "text": [
      "10015\n"
     ]
    }
   ],
   "source": [
    "from torch.utils.data import DataLoader\n",
    "\n",
    "dataset = PredictDataset(file_dir, file_names, transform)\n",
    "dataloader = DataLoader(dataset, batch_size=batch_size, shuffle=False)"
   ],
   "metadata": {
    "collapsed": false,
    "pycharm": {
     "name": "#%%\n"
    }
   }
  },
  {
   "cell_type": "code",
   "execution_count": 8,
   "outputs": [],
   "source": [
    "import torch"
   ],
   "metadata": {
    "collapsed": false,
    "pycharm": {
     "name": "#%%\n"
    }
   }
  },
  {
   "cell_type": "code",
   "execution_count": 9,
   "outputs": [],
   "source": [
    "l = []\n",
    "with torch.no_grad():\n",
    "    for X in dataloader:\n",
    "        mu, _ = pretrained_model.encoder(X)\n",
    "        l.append(mu)"
   ],
   "metadata": {
    "collapsed": false,
    "pycharm": {
     "name": "#%%\n"
    }
   }
  },
  {
   "cell_type": "code",
   "execution_count": 33,
   "outputs": [
    {
     "name": "stdout",
     "output_type": "stream",
     "text": [
      "torch.Size([32, 12])\n",
      "313\n",
      "torch.Size([31, 12])\n"
     ]
    }
   ],
   "source": [
    "print(l[0].size())\n",
    "print(len(l))\n",
    "print(l[-1].size())"
   ],
   "metadata": {
    "collapsed": false,
    "pycharm": {
     "name": "#%%\n"
    }
   }
  },
  {
   "cell_type": "code",
   "execution_count": 34,
   "outputs": [],
   "source": [
    "encodings = np.zeros((len(file_names), 12))\n",
    "for i, enc in enumerate(l):\n",
    "    encodings[i*batch_size:i*batch_size+len(enc), :] = enc"
   ],
   "metadata": {
    "collapsed": false,
    "pycharm": {
     "name": "#%%\n"
    }
   }
  },
  {
   "cell_type": "code",
   "execution_count": 37,
   "outputs": [
    {
     "data": {
      "text/plain": "array([-0.10697883,  0.70565534,  0.38071865, ...,  1.94463515,\n       -0.25017375, -0.41401255])"
     },
     "execution_count": 37,
     "metadata": {},
     "output_type": "execute_result"
    }
   ],
   "source": [
    "encodings[:, 0]"
   ],
   "metadata": {
    "collapsed": false,
    "pycharm": {
     "name": "#%%\n"
    }
   }
  },
  {
   "cell_type": "code",
   "execution_count": 39,
   "outputs": [],
   "source": [
    "for i in range(encodings.shape[1]):\n",
    "    df[f'latent_coordinate_{i}'] = encodings[:, i]"
   ],
   "metadata": {
    "collapsed": false,
    "pycharm": {
     "name": "#%%\n"
    }
   }
  },
  {
   "cell_type": "code",
   "execution_count": 40,
   "outputs": [
    {
     "data": {
      "text/plain": "         lesion_id      image_id     dx dx_type   age     sex localization  \\\n0      HAM_0000118  ISIC_0027419    bkl   histo  80.0    male        scalp   \n1      HAM_0000118  ISIC_0025030    bkl   histo  80.0    male        scalp   \n2      HAM_0002730  ISIC_0026769    bkl   histo  80.0    male        scalp   \n3      HAM_0002730  ISIC_0025661    bkl   histo  80.0    male        scalp   \n4      HAM_0001466  ISIC_0031633    bkl   histo  75.0    male          ear   \n...            ...           ...    ...     ...   ...     ...          ...   \n10010  HAM_0002867  ISIC_0033084  akiec   histo  40.0    male      abdomen   \n10011  HAM_0002867  ISIC_0033550  akiec   histo  40.0    male      abdomen   \n10012  HAM_0002867  ISIC_0033536  akiec   histo  40.0    male      abdomen   \n10013  HAM_0000239  ISIC_0032854  akiec   histo  80.0    male         face   \n10014  HAM_0003521  ISIC_0032258    mel   histo  70.0  female         back   \n\n       latent_coordinate_0  latent_coordinate_1  latent_coordinate_2  \\\n0                -0.106979            -0.048668            -0.419150   \n1                 0.705655             0.050683            -1.023222   \n2                 0.380719             0.255320            -0.056129   \n3                 0.472043            -0.137823            -0.361311   \n4                -0.720086             1.370297            -3.048022   \n...                    ...                  ...                  ...   \n10010             0.580097             1.080211             0.927477   \n10011             1.320278             1.106107            -0.339287   \n10012             1.944635             1.640213            -0.844746   \n10013            -0.250174             0.256625            -0.078109   \n10014            -0.414013            -0.147109             0.345387   \n\n       latent_coordinate_3  latent_coordinate_4  latent_coordinate_5  \\\n0                 0.194135            -2.685104            -0.646395   \n1                -1.391752            -2.161137            -0.309022   \n2                 0.226035            -2.525144            -0.196947   \n3                -1.125323            -1.433660            -0.167007   \n4                 2.123658            -2.115688             3.325147   \n...                    ...                  ...                  ...   \n10010             1.666362            -2.240172            -1.216325   \n10011            -0.923631            -1.780693            -0.817924   \n10012             0.630668            -3.794259            -1.452682   \n10013             0.267487            -2.249359             0.657497   \n10014            -0.020205            -1.347502            -0.248613   \n\n       latent_coordinate_6  latent_coordinate_7  latent_coordinate_8  \\\n0                 1.056195             0.102851            -0.075413   \n1                 0.167083             0.219867            -0.377357   \n2                 0.511622             0.802484            -0.511810   \n3                -0.444764             0.336240            -0.732898   \n4                 0.345185            -1.395048            -1.391270   \n...                    ...                  ...                  ...   \n10010             1.467841            -0.382297            -0.222215   \n10011             1.168669             0.801686            -0.374658   \n10012             1.977639             0.475680            -0.996336   \n10013             0.084284             0.249557             0.099993   \n10014             0.198013            -0.226784             0.403514   \n\n       latent_coordinate_9  latent_coordinate_10  latent_coordinate_11  \n0                -0.154920             -2.428411             -0.919434  \n1                 0.104617             -3.011379              0.209624  \n2                -0.258092             -2.620443             -0.472238  \n3                -0.483380             -2.758510              0.212307  \n4                 0.426988             -2.219423             -3.214153  \n...                    ...                   ...                   ...  \n10010             0.473341             -1.748961             -2.263403  \n10011            -0.274085             -1.614189              0.593689  \n10012            -0.159440             -2.523479             -1.017225  \n10013             0.045181             -1.498652             -1.212404  \n10014            -0.257746             -0.969526              0.442368  \n\n[10015 rows x 19 columns]",
      "text/html": "<div>\n<style scoped>\n    .dataframe tbody tr th:only-of-type {\n        vertical-align: middle;\n    }\n\n    .dataframe tbody tr th {\n        vertical-align: top;\n    }\n\n    .dataframe thead th {\n        text-align: right;\n    }\n</style>\n<table border=\"1\" class=\"dataframe\">\n  <thead>\n    <tr style=\"text-align: right;\">\n      <th></th>\n      <th>lesion_id</th>\n      <th>image_id</th>\n      <th>dx</th>\n      <th>dx_type</th>\n      <th>age</th>\n      <th>sex</th>\n      <th>localization</th>\n      <th>latent_coordinate_0</th>\n      <th>latent_coordinate_1</th>\n      <th>latent_coordinate_2</th>\n      <th>latent_coordinate_3</th>\n      <th>latent_coordinate_4</th>\n      <th>latent_coordinate_5</th>\n      <th>latent_coordinate_6</th>\n      <th>latent_coordinate_7</th>\n      <th>latent_coordinate_8</th>\n      <th>latent_coordinate_9</th>\n      <th>latent_coordinate_10</th>\n      <th>latent_coordinate_11</th>\n    </tr>\n  </thead>\n  <tbody>\n    <tr>\n      <th>0</th>\n      <td>HAM_0000118</td>\n      <td>ISIC_0027419</td>\n      <td>bkl</td>\n      <td>histo</td>\n      <td>80.0</td>\n      <td>male</td>\n      <td>scalp</td>\n      <td>-0.106979</td>\n      <td>-0.048668</td>\n      <td>-0.419150</td>\n      <td>0.194135</td>\n      <td>-2.685104</td>\n      <td>-0.646395</td>\n      <td>1.056195</td>\n      <td>0.102851</td>\n      <td>-0.075413</td>\n      <td>-0.154920</td>\n      <td>-2.428411</td>\n      <td>-0.919434</td>\n    </tr>\n    <tr>\n      <th>1</th>\n      <td>HAM_0000118</td>\n      <td>ISIC_0025030</td>\n      <td>bkl</td>\n      <td>histo</td>\n      <td>80.0</td>\n      <td>male</td>\n      <td>scalp</td>\n      <td>0.705655</td>\n      <td>0.050683</td>\n      <td>-1.023222</td>\n      <td>-1.391752</td>\n      <td>-2.161137</td>\n      <td>-0.309022</td>\n      <td>0.167083</td>\n      <td>0.219867</td>\n      <td>-0.377357</td>\n      <td>0.104617</td>\n      <td>-3.011379</td>\n      <td>0.209624</td>\n    </tr>\n    <tr>\n      <th>2</th>\n      <td>HAM_0002730</td>\n      <td>ISIC_0026769</td>\n      <td>bkl</td>\n      <td>histo</td>\n      <td>80.0</td>\n      <td>male</td>\n      <td>scalp</td>\n      <td>0.380719</td>\n      <td>0.255320</td>\n      <td>-0.056129</td>\n      <td>0.226035</td>\n      <td>-2.525144</td>\n      <td>-0.196947</td>\n      <td>0.511622</td>\n      <td>0.802484</td>\n      <td>-0.511810</td>\n      <td>-0.258092</td>\n      <td>-2.620443</td>\n      <td>-0.472238</td>\n    </tr>\n    <tr>\n      <th>3</th>\n      <td>HAM_0002730</td>\n      <td>ISIC_0025661</td>\n      <td>bkl</td>\n      <td>histo</td>\n      <td>80.0</td>\n      <td>male</td>\n      <td>scalp</td>\n      <td>0.472043</td>\n      <td>-0.137823</td>\n      <td>-0.361311</td>\n      <td>-1.125323</td>\n      <td>-1.433660</td>\n      <td>-0.167007</td>\n      <td>-0.444764</td>\n      <td>0.336240</td>\n      <td>-0.732898</td>\n      <td>-0.483380</td>\n      <td>-2.758510</td>\n      <td>0.212307</td>\n    </tr>\n    <tr>\n      <th>4</th>\n      <td>HAM_0001466</td>\n      <td>ISIC_0031633</td>\n      <td>bkl</td>\n      <td>histo</td>\n      <td>75.0</td>\n      <td>male</td>\n      <td>ear</td>\n      <td>-0.720086</td>\n      <td>1.370297</td>\n      <td>-3.048022</td>\n      <td>2.123658</td>\n      <td>-2.115688</td>\n      <td>3.325147</td>\n      <td>0.345185</td>\n      <td>-1.395048</td>\n      <td>-1.391270</td>\n      <td>0.426988</td>\n      <td>-2.219423</td>\n      <td>-3.214153</td>\n    </tr>\n    <tr>\n      <th>...</th>\n      <td>...</td>\n      <td>...</td>\n      <td>...</td>\n      <td>...</td>\n      <td>...</td>\n      <td>...</td>\n      <td>...</td>\n      <td>...</td>\n      <td>...</td>\n      <td>...</td>\n      <td>...</td>\n      <td>...</td>\n      <td>...</td>\n      <td>...</td>\n      <td>...</td>\n      <td>...</td>\n      <td>...</td>\n      <td>...</td>\n      <td>...</td>\n    </tr>\n    <tr>\n      <th>10010</th>\n      <td>HAM_0002867</td>\n      <td>ISIC_0033084</td>\n      <td>akiec</td>\n      <td>histo</td>\n      <td>40.0</td>\n      <td>male</td>\n      <td>abdomen</td>\n      <td>0.580097</td>\n      <td>1.080211</td>\n      <td>0.927477</td>\n      <td>1.666362</td>\n      <td>-2.240172</td>\n      <td>-1.216325</td>\n      <td>1.467841</td>\n      <td>-0.382297</td>\n      <td>-0.222215</td>\n      <td>0.473341</td>\n      <td>-1.748961</td>\n      <td>-2.263403</td>\n    </tr>\n    <tr>\n      <th>10011</th>\n      <td>HAM_0002867</td>\n      <td>ISIC_0033550</td>\n      <td>akiec</td>\n      <td>histo</td>\n      <td>40.0</td>\n      <td>male</td>\n      <td>abdomen</td>\n      <td>1.320278</td>\n      <td>1.106107</td>\n      <td>-0.339287</td>\n      <td>-0.923631</td>\n      <td>-1.780693</td>\n      <td>-0.817924</td>\n      <td>1.168669</td>\n      <td>0.801686</td>\n      <td>-0.374658</td>\n      <td>-0.274085</td>\n      <td>-1.614189</td>\n      <td>0.593689</td>\n    </tr>\n    <tr>\n      <th>10012</th>\n      <td>HAM_0002867</td>\n      <td>ISIC_0033536</td>\n      <td>akiec</td>\n      <td>histo</td>\n      <td>40.0</td>\n      <td>male</td>\n      <td>abdomen</td>\n      <td>1.944635</td>\n      <td>1.640213</td>\n      <td>-0.844746</td>\n      <td>0.630668</td>\n      <td>-3.794259</td>\n      <td>-1.452682</td>\n      <td>1.977639</td>\n      <td>0.475680</td>\n      <td>-0.996336</td>\n      <td>-0.159440</td>\n      <td>-2.523479</td>\n      <td>-1.017225</td>\n    </tr>\n    <tr>\n      <th>10013</th>\n      <td>HAM_0000239</td>\n      <td>ISIC_0032854</td>\n      <td>akiec</td>\n      <td>histo</td>\n      <td>80.0</td>\n      <td>male</td>\n      <td>face</td>\n      <td>-0.250174</td>\n      <td>0.256625</td>\n      <td>-0.078109</td>\n      <td>0.267487</td>\n      <td>-2.249359</td>\n      <td>0.657497</td>\n      <td>0.084284</td>\n      <td>0.249557</td>\n      <td>0.099993</td>\n      <td>0.045181</td>\n      <td>-1.498652</td>\n      <td>-1.212404</td>\n    </tr>\n    <tr>\n      <th>10014</th>\n      <td>HAM_0003521</td>\n      <td>ISIC_0032258</td>\n      <td>mel</td>\n      <td>histo</td>\n      <td>70.0</td>\n      <td>female</td>\n      <td>back</td>\n      <td>-0.414013</td>\n      <td>-0.147109</td>\n      <td>0.345387</td>\n      <td>-0.020205</td>\n      <td>-1.347502</td>\n      <td>-0.248613</td>\n      <td>0.198013</td>\n      <td>-0.226784</td>\n      <td>0.403514</td>\n      <td>-0.257746</td>\n      <td>-0.969526</td>\n      <td>0.442368</td>\n    </tr>\n  </tbody>\n</table>\n<p>10015 rows × 19 columns</p>\n</div>"
     },
     "execution_count": 40,
     "metadata": {},
     "output_type": "execute_result"
    }
   ],
   "source": [
    "df"
   ],
   "metadata": {
    "collapsed": false,
    "pycharm": {
     "name": "#%%\n"
    }
   }
  },
  {
   "cell_type": "markdown",
   "id": "3a1dfd33",
   "metadata": {
    "pycharm": {
     "name": "#%% md\n"
    }
   },
   "source": [
    "---\n",
    "## Populate with UMAP coordinates, and save UMAP model"
   ]
  },
  {
   "cell_type": "code",
   "execution_count": 16,
   "outputs": [],
   "source": [
    "df = pd.read_csv(\"HAM10000_latent_space_processed.csv\")"
   ],
   "metadata": {
    "collapsed": false,
    "pycharm": {
     "name": "#%%\n"
    }
   }
  },
  {
   "cell_type": "code",
   "execution_count": 17,
   "id": "02a18d74",
   "metadata": {
    "pycharm": {
     "name": "#%%\n"
    }
   },
   "outputs": [],
   "source": [
    "latent_coordinates = df[['latent_coordinate_' + str(i) for i in range(12)]]"
   ]
  },
  {
   "cell_type": "code",
   "execution_count": 18,
   "id": "2364d42a",
   "metadata": {
    "pycharm": {
     "name": "#%%\n"
    }
   },
   "outputs": [],
   "source": [
    "# Fit UMAP model\n",
    "import umap.umap_ as umap\n",
    "reducer = umap.UMAP(random_state=0)\n",
    "reducer = reducer.fit(latent_coordinates)"
   ]
  },
  {
   "cell_type": "code",
   "execution_count": 14,
   "id": "494230e8",
   "metadata": {
    "pycharm": {
     "name": "#%%\n"
    }
   },
   "outputs": [
    {
     "data": {
      "text/plain": "['umap.sav']"
     },
     "execution_count": 14,
     "metadata": {},
     "output_type": "execute_result"
    }
   ],
   "source": [
    "# Serialize UMAP model\n",
    "joblib.dump(reducer, \"umap_3_9.sav\")"
   ]
  },
  {
   "cell_type": "code",
   "execution_count": 46,
   "id": "f9c114ff",
   "metadata": {
    "pycharm": {
     "name": "#%%\n"
    }
   },
   "outputs": [],
   "source": [
    "# Get UMAP coordinates\n",
    "embeddings = reducer.transform(latent_coordinates)\n",
    "df[\"umap1\"] = [embedding[0] for embedding in embeddings]\n",
    "df[\"umap2\"] = [embedding[1] for embedding in embeddings]"
   ]
  },
  {
   "cell_type": "markdown",
   "id": "0ad5c2de",
   "metadata": {
    "pycharm": {
     "name": "#%% md\n"
    }
   },
   "source": [
    "---\n",
    "## Save CSV"
   ]
  },
  {
   "cell_type": "code",
   "execution_count": 47,
   "id": "82d978e9",
   "metadata": {
    "pycharm": {
     "name": "#%%\n"
    }
   },
   "outputs": [
    {
     "data": {
      "text/plain": "     lesion_id      image_id   dx dx_type   age   sex localization  \\\n0  HAM_0000118  ISIC_0027419  bkl   histo  80.0  male        scalp   \n1  HAM_0000118  ISIC_0025030  bkl   histo  80.0  male        scalp   \n2  HAM_0002730  ISIC_0026769  bkl   histo  80.0  male        scalp   \n3  HAM_0002730  ISIC_0025661  bkl   histo  80.0  male        scalp   \n4  HAM_0001466  ISIC_0031633  bkl   histo  75.0  male          ear   \n\n   latent_coordinate_0  latent_coordinate_1  latent_coordinate_2  ...  \\\n0            -0.106979            -0.048668            -0.419150  ...   \n1             0.705655             0.050683            -1.023222  ...   \n2             0.380719             0.255320            -0.056129  ...   \n3             0.472043            -0.137823            -0.361311  ...   \n4            -0.720086             1.370297            -3.048022  ...   \n\n   latent_coordinate_4  latent_coordinate_5  latent_coordinate_6  \\\n0            -2.685104            -0.646395             1.056195   \n1            -2.161137            -0.309022             0.167083   \n2            -2.525144            -0.196947             0.511622   \n3            -1.433660            -0.167007            -0.444764   \n4            -2.115688             3.325147             0.345185   \n\n   latent_coordinate_7  latent_coordinate_8  latent_coordinate_9  \\\n0             0.102851            -0.075413            -0.154920   \n1             0.219867            -0.377357             0.104617   \n2             0.802484            -0.511810            -0.258092   \n3             0.336240            -0.732898            -0.483380   \n4            -1.395048            -1.391270             0.426988   \n\n   latent_coordinate_10  latent_coordinate_11     umap1     umap2  \n0             -2.428411             -0.919434  3.881582  1.014614  \n1             -3.011379              0.209624  7.217498 -0.011892  \n2             -2.620443             -0.472238  3.982279  1.215236  \n3             -2.758510              0.212307  7.346356  0.277668  \n4             -2.219423             -3.214153  2.746780  3.402782  \n\n[5 rows x 21 columns]",
      "text/html": "<div>\n<style scoped>\n    .dataframe tbody tr th:only-of-type {\n        vertical-align: middle;\n    }\n\n    .dataframe tbody tr th {\n        vertical-align: top;\n    }\n\n    .dataframe thead th {\n        text-align: right;\n    }\n</style>\n<table border=\"1\" class=\"dataframe\">\n  <thead>\n    <tr style=\"text-align: right;\">\n      <th></th>\n      <th>lesion_id</th>\n      <th>image_id</th>\n      <th>dx</th>\n      <th>dx_type</th>\n      <th>age</th>\n      <th>sex</th>\n      <th>localization</th>\n      <th>latent_coordinate_0</th>\n      <th>latent_coordinate_1</th>\n      <th>latent_coordinate_2</th>\n      <th>...</th>\n      <th>latent_coordinate_4</th>\n      <th>latent_coordinate_5</th>\n      <th>latent_coordinate_6</th>\n      <th>latent_coordinate_7</th>\n      <th>latent_coordinate_8</th>\n      <th>latent_coordinate_9</th>\n      <th>latent_coordinate_10</th>\n      <th>latent_coordinate_11</th>\n      <th>umap1</th>\n      <th>umap2</th>\n    </tr>\n  </thead>\n  <tbody>\n    <tr>\n      <th>0</th>\n      <td>HAM_0000118</td>\n      <td>ISIC_0027419</td>\n      <td>bkl</td>\n      <td>histo</td>\n      <td>80.0</td>\n      <td>male</td>\n      <td>scalp</td>\n      <td>-0.106979</td>\n      <td>-0.048668</td>\n      <td>-0.419150</td>\n      <td>...</td>\n      <td>-2.685104</td>\n      <td>-0.646395</td>\n      <td>1.056195</td>\n      <td>0.102851</td>\n      <td>-0.075413</td>\n      <td>-0.154920</td>\n      <td>-2.428411</td>\n      <td>-0.919434</td>\n      <td>3.881582</td>\n      <td>1.014614</td>\n    </tr>\n    <tr>\n      <th>1</th>\n      <td>HAM_0000118</td>\n      <td>ISIC_0025030</td>\n      <td>bkl</td>\n      <td>histo</td>\n      <td>80.0</td>\n      <td>male</td>\n      <td>scalp</td>\n      <td>0.705655</td>\n      <td>0.050683</td>\n      <td>-1.023222</td>\n      <td>...</td>\n      <td>-2.161137</td>\n      <td>-0.309022</td>\n      <td>0.167083</td>\n      <td>0.219867</td>\n      <td>-0.377357</td>\n      <td>0.104617</td>\n      <td>-3.011379</td>\n      <td>0.209624</td>\n      <td>7.217498</td>\n      <td>-0.011892</td>\n    </tr>\n    <tr>\n      <th>2</th>\n      <td>HAM_0002730</td>\n      <td>ISIC_0026769</td>\n      <td>bkl</td>\n      <td>histo</td>\n      <td>80.0</td>\n      <td>male</td>\n      <td>scalp</td>\n      <td>0.380719</td>\n      <td>0.255320</td>\n      <td>-0.056129</td>\n      <td>...</td>\n      <td>-2.525144</td>\n      <td>-0.196947</td>\n      <td>0.511622</td>\n      <td>0.802484</td>\n      <td>-0.511810</td>\n      <td>-0.258092</td>\n      <td>-2.620443</td>\n      <td>-0.472238</td>\n      <td>3.982279</td>\n      <td>1.215236</td>\n    </tr>\n    <tr>\n      <th>3</th>\n      <td>HAM_0002730</td>\n      <td>ISIC_0025661</td>\n      <td>bkl</td>\n      <td>histo</td>\n      <td>80.0</td>\n      <td>male</td>\n      <td>scalp</td>\n      <td>0.472043</td>\n      <td>-0.137823</td>\n      <td>-0.361311</td>\n      <td>...</td>\n      <td>-1.433660</td>\n      <td>-0.167007</td>\n      <td>-0.444764</td>\n      <td>0.336240</td>\n      <td>-0.732898</td>\n      <td>-0.483380</td>\n      <td>-2.758510</td>\n      <td>0.212307</td>\n      <td>7.346356</td>\n      <td>0.277668</td>\n    </tr>\n    <tr>\n      <th>4</th>\n      <td>HAM_0001466</td>\n      <td>ISIC_0031633</td>\n      <td>bkl</td>\n      <td>histo</td>\n      <td>75.0</td>\n      <td>male</td>\n      <td>ear</td>\n      <td>-0.720086</td>\n      <td>1.370297</td>\n      <td>-3.048022</td>\n      <td>...</td>\n      <td>-2.115688</td>\n      <td>3.325147</td>\n      <td>0.345185</td>\n      <td>-1.395048</td>\n      <td>-1.391270</td>\n      <td>0.426988</td>\n      <td>-2.219423</td>\n      <td>-3.214153</td>\n      <td>2.746780</td>\n      <td>3.402782</td>\n    </tr>\n  </tbody>\n</table>\n<p>5 rows × 21 columns</p>\n</div>"
     },
     "execution_count": 47,
     "metadata": {},
     "output_type": "execute_result"
    }
   ],
   "source": [
    "df.head()"
   ]
  },
  {
   "cell_type": "code",
   "execution_count": 48,
   "outputs": [],
   "source": [
    "df.to_csv(\"HAM10000_latent_space_umap_processed.csv\", index=False)"
   ],
   "metadata": {
    "collapsed": false,
    "pycharm": {
     "name": "#%%\n"
    }
   }
  },
  {
   "cell_type": "code",
   "execution_count": null,
   "outputs": [],
   "source": [],
   "metadata": {
    "collapsed": false,
    "pycharm": {
     "name": "#%%\n"
    }
   }
  }
 ],
 "metadata": {
  "kernelspec": {
   "display_name": "Python 3 (ipykernel)",
   "language": "python",
   "name": "python3"
  },
  "language_info": {
   "codemirror_mode": {
    "name": "ipython",
    "version": 3
   },
   "file_extension": ".py",
   "mimetype": "text/x-python",
   "name": "python",
   "nbconvert_exporter": "python",
   "pygments_lexer": "ipython3",
   "version": "3.10.0"
  }
 },
 "nbformat": 4,
 "nbformat_minor": 5
}